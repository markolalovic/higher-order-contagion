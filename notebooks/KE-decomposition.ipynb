{
 "cells": [
  {
   "cell_type": "markdown",
   "id": "42c19ba1",
   "metadata": {},
   "source": [
    "# KE Decomposition \n",
    "\n",
    "The proposed decomposed KEs, let's call it system (E):\n",
    "\n",
    "$$\n",
    "\\begin{align*}\n",
    "\\frac{d p_{k_1, k_2}(t)}{dt} &= \n",
    "a_{k_1-1, k_2} p_{k_1-1, k_2}(t) + b_{k_1, k_2-1} p_{k_1, k_2-1}(t) + \\gamma\\left(k_1 + 1\\right) p_{k_1+1, k_2}(t) + \\gamma\\left(k_2+1\\right) p_{k_1, k_2+1}(t) \\\\[.5em]\n",
    "&\\,\\quad - \\left[ a_{k_1, k_2} + b_{k_1, k_2} + \\gamma\\left(k_1 + k_2\\right) \\right] p_{k_1, k_2}(t)\n",
    "\\tag{E}\n",
    "\\end{align*}\n",
    "$$\n",
    "\n"
   ]
  },
  {
   "cell_type": "markdown",
   "id": "0d68695b",
   "metadata": {},
   "source": [
    "We can implement and solve it for $N = 1000$ nodes with parameter values: $\\beta_1 N = 2, \\beta_2 N^{2} = 6$ and initial condition $y(0) = 50$ assuming initial infections are from \"unspecified\" origin. \n",
    "\n",
    "Then plot the solution i.e. p(t), h(t) and total y(t).\n",
    "\n",
    "And compare it to decomposed Gillespie simulation."
   ]
  },
  {
   "cell_type": "markdown",
   "id": "abf75675",
   "metadata": {},
   "source": [
    "We could compare it to the true decomposed KEs, however for this the state space is enormous $\\sum_{k = 0}^{N} \\binom{N}{k} 2^{k}$ because we need to track the subsets of $k$ infected nodes and the labels `PW` or `HO` of how the nodes get infected."
   ]
  },
  {
   "cell_type": "markdown",
   "id": "9f55a42e",
   "metadata": {},
   "source": [
    "We don't need to run a single line of code to show the models are different.\n",
    "\n",
    "Let's assume Equations E with state $(k_1, k_2)$ is the true process. This means that $(k_1, k_2)$ is a valid state for the MC of the true process. For example, for complete SC, the true process state is $k = k_1 + k_2$. Suppose we are in state $k = 50$. Then some state $(k_1, k_2) = (10, 40)$ and another state $(k_{1}', k_{2}') = (20, 30)$ should give identical rates, since $k = 50$ for both.\n",
    "\n",
    "Recovery rates of E are $\\mu k_1, \\mu k_2$ and these rates depend on the current split, and we can have \"PW recovery\" or \"HO recovery\", that is either pool of PW-origin nodes shrinks or pool of HO-originated nodes shrinks.\n",
    "\n",
    "However, in true process, a recovery node is chosen uniformly at random from a pool of all infected nodes $k$ at rate $\\mu k$."
   ]
  },
  {
   "cell_type": "markdown",
   "id": "e816e87a",
   "metadata": {},
   "source": [
    "In other words, the process depends only on $k$ not on particular split, no hidden dependency on history is allowed.\n",
    "\n",
    "System E does not describe the true process, but som related \"2-type competing process model\"."
   ]
  },
  {
   "cell_type": "code",
   "execution_count": null,
   "id": "7ddd5af3",
   "metadata": {},
   "outputs": [],
   "source": []
  }
 ],
 "metadata": {
  "kernelspec": {
   "display_name": ".venv",
   "language": "python",
   "name": "python3"
  },
  "language_info": {
   "codemirror_mode": {
    "name": "ipython",
    "version": 3
   },
   "file_extension": ".py",
   "mimetype": "text/x-python",
   "name": "python",
   "nbconvert_exporter": "python",
   "pygments_lexer": "ipython3",
   "version": "3.9.6"
  }
 },
 "nbformat": 4,
 "nbformat_minor": 5
}
