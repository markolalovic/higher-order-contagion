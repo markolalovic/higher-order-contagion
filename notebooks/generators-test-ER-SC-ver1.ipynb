{
 "cells": [
  {
   "cell_type": "markdown",
   "metadata": {},
   "source": [
    "#  Erdos-Renyi SC Generators Test - Version 1"
   ]
  },
  {
   "cell_type": "markdown",
   "metadata": {},
   "source": [
    "## Possible approaches\n",
    "\n",
    "### 1. \n",
    "$G(N, p_1, p_2)$ with number of filled triangles (2-simplices) is $p_2 \\, \\binom{N}{3}$ with downward closure property: if $i, j, k \\in SC$ then all pairs in SC.\n",
    "\n",
    "Approaches:\n",
    "  - Create a $G(N, p_1)$ skeleton first, then fill in triangles (add any \"open\" triangle as 2-simplex with prob $p_2$)\n",
    "\n",
    "  - Independent, filter / project: generate $G(N, p_1, p_2)$ independently, then if $i, j, k$ was picked but not one of its edges: discard it or add mising edges. Here, the actual number of triangles can be too low.\n"
   ]
  },
  {
   "cell_type": "markdown",
   "metadata": {},
   "source": [
    "### 2. \n",
    "Build clique complexes on E-R random graph\n",
    "\n",
    "- Create $G(N, p_1)$ graph\n",
    "- Find cliques (3-cliques only), and fill-in all triangles (add the 2-simplices), downward closure guaranteed by construction. The prob of triangle existing is not independent, but it's prob of all edges of triangle existing ($p_1^3$ for a triangle) summed over all possible triangles. Makes it hard to tune the density.."
   ]
  },
  {
   "cell_type": "markdown",
   "metadata": {},
   "source": [
    "### 3. \n",
    "A random geometric constuction, e.g. Vietoris-Rips based on point placement. Input: disntace threshold eps, and point distribution e.g. uniform on a unit square. Approach: Draw the points in a $[0, 1]^{d}$ then connect them if distance below threshold, it's a clique complex of the graph for triangles. Less pure less combinatorial approach.."
   ]
  },
  {
   "cell_type": "code",
   "execution_count": 1,
   "metadata": {},
   "outputs": [],
   "source": [
    "import sys\n",
    "sys.path.append('../src/')\n",
    "sys.path.append('../scripts/')\n",
    "\n",
    "from Hypergraphs import EmptyHypergraph\n",
    "\n",
    "import numpy as np\n",
    "import matplotlib.pyplot as plt\n",
    "import os\n",
    "\n",
    "from scipy.stats import zipf # for power-law Zeta distribution\n",
    "# from itertools import combinations\n",
    "from scipy.special import comb\n",
    "\n",
    "from collections import Counter # for counting degrees"
   ]
  },
  {
   "cell_type": "markdown",
   "metadata": {},
   "source": [
    "## E-R SC"
   ]
  },
  {
   "cell_type": "code",
   "execution_count": 2,
   "metadata": {},
   "outputs": [],
   "source": [
    "from generators_sc import *"
   ]
  },
  {
   "cell_type": "code",
   "execution_count": 7,
   "metadata": {},
   "outputs": [
    {
     "name": "stdout",
     "output_type": "stream",
     "text": [
      "Using (k1, k2) = (20, 6)\n",
      "p1 = 0.0081\n",
      "p2 = 0.00001204\n",
      "giant_order = 1000\n"
     ]
    }
   ],
   "source": [
    "# test ER SC\n",
    "N = 1000\n",
    "\n",
    "k1_k2_list = [(3, 1), (6, 2), (10, 3), (20, 6)]\n",
    "(k1, k2) = k1_k2_list[3]\n",
    "print(f\"Using (k1, k2) = {(k1, k2)}\")\n",
    "\n",
    "p1, p2 = p1_p2_ER_like_simplicial_complex(k1,k2,N)\n",
    "\n",
    "print(f\"p1 = {p1:.4f}\")\n",
    "print(f\"p2 = {p2:.8f}\")\n",
    "\n",
    "giant_order, edges, triangles = ER_like_simplicial_complex(N,p1,p2)\n",
    "print(f\"giant_order = {giant_order}\")"
   ]
  },
  {
   "cell_type": "code",
   "execution_count": 8,
   "metadata": {},
   "outputs": [
    {
     "name": "stdout",
     "output_type": "stream",
     "text": [
      "g_edges: [(0, 489), (0, 522), (0, 574), (0, 594), (0, 598)], ..., [(259, 359, 580), (58, 62, 318), (362, 403, 595), (668, 801, 818), (448, 584, 655)]\n",
      "\tER_SC_ver1 on 1000 nodes with 12119 edges.\n",
      "\n",
      "realized k1:  20.21\n",
      "realized k2:  6.04\n",
      "\n"
     ]
    }
   ],
   "source": [
    "g_edges = []\n",
    "all_edges = edges.tolist() + triangles.tolist()\n",
    "for edge in all_edges:\n",
    "    g_edges.append(tuple(edge))\n",
    "print(f\"g_edges: {g_edges[:5]}, ..., {g_edges[-5:]}\")\n",
    "\n",
    "g = EmptyHypergraph(N)\n",
    "g.name = \"ER_SC_ver1\"\n",
    "g.set_edges(g_edges)\n",
    "g.print()\n",
    "\n",
    "k1_sim = np.mean([len(g.neighbors(i, 1)) for i in list(g.nodes.keys())])\n",
    "k2_sim = np.mean([len(g.neighbors(i, 2)) for i in list(g.nodes.keys())])\n",
    "print(f\"realized k1:  {k1_sim:.2f}\")\n",
    "print(f\"realized k2:  {k2_sim:.2f}\\n\")"
   ]
  },
  {
   "cell_type": "code",
   "execution_count": 9,
   "metadata": {},
   "outputs": [
    {
     "data": {
      "text/plain": [
       "1.0"
      ]
     },
     "execution_count": 9,
     "metadata": {},
     "output_type": "execute_result"
    }
   ],
   "source": [
    "inter_order_overlap(edges, triangles)"
   ]
  },
  {
   "cell_type": "code",
   "execution_count": 10,
   "metadata": {},
   "outputs": [
    {
     "name": "stdout",
     "output_type": "stream",
     "text": [
      "0.008105369807497468 0.006907755278982137\n"
     ]
    },
    {
     "data": {
      "text/plain": [
       "np.True_"
      ]
     },
     "execution_count": 10,
     "metadata": {},
     "output_type": "execute_result"
    }
   ],
   "source": [
    "print(p1, np.log(N) / N)\n",
    "p1 > np.log(N) / N"
   ]
  },
  {
   "cell_type": "code",
   "execution_count": 19,
   "metadata": {},
   "outputs": [
    {
     "name": "stdout",
     "output_type": "stream",
     "text": [
      "p1_est = 0.0199\n",
      "p2_est = 0.00001202\n"
     ]
    },
    {
     "data": {
      "text/plain": [
       "1000.0"
      ]
     },
     "execution_count": 19,
     "metadata": {},
     "output_type": "execute_result"
    }
   ],
   "source": [
    "test_p1_p2 = True\n",
    "inter_order_overlaps = []\n",
    "if test_p1_p2:\n",
    "    max_pw_edges = N * (N - 1) / 2\n",
    "    max_ho_edges = N * (N - 1) * (N - 2) / 6\n",
    "\n",
    "    p1_est = []\n",
    "    p2_est = []\n",
    "    nsims = 1000\n",
    "    for _ in range(nsims):\n",
    "        p1, p2 = p1_p2_ER_like_simplicial_complex(k1,k2,N)\n",
    "        _, edges, triangles = ER_like_simplicial_complex(N,p1,p2)\n",
    "        p1_est.append(len(edges) / max_pw_edges)\n",
    "        p2_est.append(len(triangles) / max_ho_edges)\n",
    "\n",
    "        inter_order_overlaps.append(inter_order_overlap(edges, triangles))\n",
    "\n",
    "    print(f\"p1_est = {np.mean(p1_est):.4f}\")\n",
    "    print(f\"p2_est = {np.mean(p2_est):.8f}\")\n",
    "    # p1_est = 0.0097\n",
    "    # p2_est = 0.00000568     \n",
    "    # p1 = 0.0040\n",
    "    # p2 = 0.00000602\n",
    "sum(inter_order_overlaps) # == nsims"
   ]
  },
  {
   "cell_type": "code",
   "execution_count": 20,
   "metadata": {},
   "outputs": [
    {
     "name": "stdout",
     "output_type": "stream",
     "text": [
      "k1_est = 20.0860\n",
      "k2_est = 6.0720\n"
     ]
    }
   ],
   "source": [
    "test_k1_k2 = True\n",
    "inter_order_overlaps = []\n",
    "if test_k1_k2:\n",
    "    k1_est = []\n",
    "    k2_est = []\n",
    "    nsims = 1000\n",
    "    for _ in range(nsims):\n",
    "        p1, p2 = p1_p2_ER_like_simplicial_complex(k1,k2,N)\n",
    "        _, edges, triangles = ER_like_simplicial_complex(N,p1,p2)\n",
    "\n",
    "        g_type = \"random_ER\"\n",
    "        g = EmptyHypergraph(N)\n",
    "        g.name = g_type\n",
    "        g.set_edges(g_edges)\n",
    "\n",
    "        k1_sim = np.mean([len(g.neighbors(i, 1)) for i in list(g.nodes.keys())])\n",
    "        k2_sim = np.mean([len(g.neighbors(i, 2)) for i in list(g.nodes.keys())])\n",
    "\n",
    "        k1_est.append(k1_sim)\n",
    "        k2_est.append(k2_sim)\n",
    "    \n",
    "    print(f\"k1_est = {np.mean(k1_est):.4f}\")\n",
    "    print(f\"k2_est = {np.mean(k2_est):.4f}\")\n",
    "    # Using (k1, k2) = (10, 3)\n",
    "    # k1_est = 9.6480\n",
    "    # k2_est = 2.8440"
   ]
  },
  {
   "cell_type": "markdown",
   "metadata": {},
   "source": [
    "# Check downward closure property\n",
    "\n",
    "In this case, presence of triangle implies presence of all pairwise edges of this triangle."
   ]
  },
  {
   "cell_type": "code",
   "execution_count": 21,
   "metadata": {},
   "outputs": [
    {
     "name": "stdout",
     "output_type": "stream",
     "text": [
      "target p1: 0.0040\n",
      "target p2: 0.00000602\n",
      "\n",
      "target pw edges: 2012/499500\n",
      "target ho edges: 1000/166167000\n",
      "\n"
     ]
    }
   ],
   "source": [
    "N = 1000\n",
    "max_pw_edges = comb(N, 2, exact=True) # N * (N - 1) / 2\n",
    "max_ho_edges = comb(N, 3, exact=True) # N * (N - 1) * (N - 2) / 6\n",
    "\n",
    "k1_k2_list = [(3, 1), (6, 2), (10, 3), (20, 6)]\n",
    "(k1, k2) = k1_k2_list[2]\n",
    "\n",
    "p1, p2 = p1_p2_ER_like_simplicial_complex(k1,k2,N)\n",
    "\n",
    "print(f\"target p1: {p1:.4f}\")\n",
    "print(f\"target p2: {p2:.8f}\\n\")\n",
    "print(f\"target pw edges: {p1 * max_pw_edges:.0f}/{max_pw_edges:.0f}\")\n",
    "print(f\"target ho edges: {p2 * max_ho_edges:.0f}/{max_ho_edges:.0f}\\n\")"
   ]
  },
  {
   "cell_type": "code",
   "execution_count": 1,
   "metadata": {},
   "outputs": [
    {
     "ename": "NameError",
     "evalue": "name 'ER_like_simplicial_complex' is not defined",
     "output_type": "error",
     "traceback": [
      "\u001b[31m---------------------------------------------------------------------------\u001b[39m",
      "\u001b[31mNameError\u001b[39m                                 Traceback (most recent call last)",
      "\u001b[36mCell\u001b[39m\u001b[36m \u001b[39m\u001b[32mIn[1]\u001b[39m\u001b[32m, line 1\u001b[39m\n\u001b[32m----> \u001b[39m\u001b[32m1\u001b[39m _, edges, triangles = \u001b[43mER_like_simplicial_complex\u001b[49m(N,p1,p2)\n\u001b[32m      3\u001b[39m all_edges = edges.tolist() + triangles.tolist()\n\u001b[32m      4\u001b[39m g_edges = []\n",
      "\u001b[31mNameError\u001b[39m: name 'ER_like_simplicial_complex' is not defined"
     ]
    }
   ],
   "source": [
    "_, edges, triangles = ER_like_simplicial_complex(N,p1,p2)\n",
    "\n",
    "all_edges = edges.tolist() + triangles.tolist()\n",
    "g_edges = []\n",
    "for edge in all_edges:\n",
    "    g_edges.append(tuple(edge))\n",
    "\n",
    "g = EmptyHypergraph(N)\n",
    "g.name = \"ER_SC_ver1\"\n",
    "g.set_edges(g_edges)\n",
    "g.print()"
   ]
  },
  {
   "cell_type": "code",
   "execution_count": 23,
   "metadata": {},
   "outputs": [
    {
     "name": "stdout",
     "output_type": "stream",
     "text": [
      "[[  0 216]\n",
      " [  0 281]\n",
      " [  0 370]\n",
      " [  0 399]\n",
      " [  0 462]]\n",
      "[[170 354 408]\n",
      " [166 405 766]\n",
      " [459 737 764]\n",
      " [335 651 699]\n",
      " [ 39 301 384]]\n"
     ]
    }
   ],
   "source": [
    "N = 1000\n",
    "k1, k2 = (10, 3)\n",
    "p1, p2 = p1_p2_ER_like_simplicial_complex(k1,k2,N)\n",
    "_, edges, triangles = ER_like_simplicial_complex(N,p1,p2)\n",
    "\n",
    "print(edges[:5])\n",
    "print(triangles[:5])"
   ]
  },
  {
   "cell_type": "code",
   "execution_count": 24,
   "metadata": {},
   "outputs": [],
   "source": [
    "def check_downward_closure(edges, triangles):\n",
    "    edge_set = set()\n",
    "    for edge in edges:\n",
    "        edge_set.add(tuple(sorted(edge)))\n",
    "\n",
    "    is_valid_sc = True\n",
    "    invalid_triangles = []\n",
    "\n",
    "    for triangle in triangles:\n",
    "        tri_sorted = sorted(triangle)\n",
    "        v1, v2, v3 = tri_sorted[0], tri_sorted[1], tri_sorted[2]\n",
    "\n",
    "        edge1 = tuple(sorted((v1, v2)))\n",
    "        edge2 = tuple(sorted((v1, v3)))\n",
    "        edge3 = tuple(sorted((v2, v3)))\n",
    "\n",
    "        # check if all 3 edges are present\n",
    "        if not (edge1 in edge_set and edge2 in edge_set and edge3 in edge_set):\n",
    "            is_valid_sc = False\n",
    "            invalid_triangles.append(list(tri_sorted))\n",
    "            print(f\"Invalid triangle {list(tri_sorted)}: \")\n",
    "            if edge1 not in edge_set: print(f\"\\t Missing: {edge1}\")\n",
    "            if edge2 not in edge_set: print(f\"\\t Missing: {edge2}\")\n",
    "            if edge3 not in edge_set: print(f\"\\t Missing: {edge3}\")\n",
    "    return is_valid_sc"
   ]
  },
  {
   "cell_type": "code",
   "execution_count": 25,
   "metadata": {},
   "outputs": [],
   "source": [
    "N = 1000\n",
    "k1, k2 = (10, 3)\n",
    "\n",
    "nsims = 1000\n",
    "for _ in range(nsims):\n",
    "    p1, p2 = p1_p2_ER_like_simplicial_complex(k1,k2,N)\n",
    "    _, edges, triangles = ER_like_simplicial_complex(N,p1,p2)\n",
    "    is_valid_sc = check_downward_closure(edges, triangles)\n",
    "    if not is_valid_sc:\n",
    "        print(\"generated invalid SC\")"
   ]
  },
  {
   "cell_type": "code",
   "execution_count": 14,
   "metadata": {},
   "outputs": [
    {
     "data": {
      "text/plain": [
       "True"
      ]
     },
     "execution_count": 14,
     "metadata": {},
     "output_type": "execute_result"
    }
   ],
   "source": [
    "is_valid_sc"
   ]
  },
  {
   "cell_type": "code",
   "execution_count": 26,
   "metadata": {},
   "outputs": [],
   "source": [
    "# try to find connected SC using smaller (k1, k2):\n",
    "desired_N = 1000\n",
    "k1_target, k2_target = (10, 3)\n",
    "p1_sc, p2_sc = p1_p2_ER_like_simplicial_complex(k1_target, k2_target, desired_N)\n",
    "\n",
    "attempts = 1000\n",
    "for _ in range(attempts):\n",
    "    giant_order_realized, edges_realized, triangles_realized = ER_like_simplicial_complex(desired_N, p1_sc, p2_sc)\n",
    "    if giant_order_realized == desired_N:\n",
    "        print(f\"Found connected SC of size {desired_N}.\")\n",
    "        break"
   ]
  },
  {
   "cell_type": "markdown",
   "metadata": {},
   "source": [
    "# Degree distribution"
   ]
  },
  {
   "cell_type": "code",
   "execution_count": 12,
   "metadata": {},
   "outputs": [
    {
     "name": "stdout",
     "output_type": "stream",
     "text": [
      "Using (k1, k2) = (20, 6)\n",
      "p1 = 0.0081\n",
      "p2 = 0.00001204\n",
      "giant_order = 1000\n",
      "g_edges: [(0, 147), (0, 331), (0, 435), (0, 519), (0, 533)], ..., [(197, 213, 646), (170, 697, 953), (316, 569, 867), (199, 524, 686), (55, 651, 866)]\n"
     ]
    }
   ],
   "source": [
    "# test ER SC\n",
    "N = 1000\n",
    "\n",
    "k1_k2_list = [(3, 1), (6, 2), (10, 3), (20, 6)]\n",
    "(k1, k2) = k1_k2_list[3]\n",
    "print(f\"Using (k1, k2) = {(k1, k2)}\")\n",
    "\n",
    "p1, p2 = p1_p2_ER_like_simplicial_complex(k1,k2,N)\n",
    "\n",
    "print(f\"p1 = {p1:.4f}\")\n",
    "print(f\"p2 = {p2:.8f}\")\n",
    "\n",
    "giant_order, edges, triangles = ER_like_simplicial_complex(N,p1,p2)\n",
    "print(f\"giant_order = {giant_order}\")\n",
    "\n",
    "g_edges = []\n",
    "all_edges = edges.tolist() + triangles.tolist()\n",
    "for edge in all_edges:\n",
    "    g_edges.append(tuple(edge))\n",
    "print(f\"g_edges: {g_edges[:5]}, ..., {g_edges[-5:]}\")"
   ]
  },
  {
   "cell_type": "code",
   "execution_count": 13,
   "metadata": {},
   "outputs": [
    {
     "name": "stdout",
     "output_type": "stream",
     "text": [
      "realized k1:  20.28\n",
      "realized k2:  6.21\n",
      "\n"
     ]
    }
   ],
   "source": [
    "g = EmptyHypergraph(N)\n",
    "g.name = \"ER_SC\"\n",
    "g.set_edges(g_edges)\n",
    "\n",
    "k1_sim = np.mean([len(g.neighbors(i, 1)) for i in list(g.nodes.keys())])\n",
    "k2_sim = np.mean([len(g.neighbors(i, 2)) for i in list(g.nodes.keys())])\n",
    "print(f\"realized k1:  {k1_sim:.2f}\")\n",
    "print(f\"realized k2:  {k2_sim:.2f}\\n\")"
   ]
  },
  {
   "cell_type": "code",
   "execution_count": 14,
   "metadata": {},
   "outputs": [
    {
     "name": "stdout",
     "output_type": "stream",
     "text": [
      "realized k1:  20.28\n",
      "realized k2:  6.21\n",
      "\n"
     ]
    }
   ],
   "source": [
    "N_realized = N\n",
    "\n",
    "degrees_pw_instance = np.zeros(N_realized, dtype=int)\n",
    "degrees_ho_instance = np.zeros(N_realized, dtype=int)\n",
    "\n",
    "for i in range(N_realized):\n",
    "    degrees_pw_instance[i] = len(g.neighbors(i, 1))\n",
    "    degrees_ho_instance[i] = len(g.neighbors(i, 2))\n",
    "\n",
    "mean_k1_realized = np.mean(degrees_pw_instance)\n",
    "mean_k2_realized = np.mean(degrees_ho_instance)\n",
    "\n",
    "print(f\"realized k1:  {mean_k1_realized:.2f}\")\n",
    "print(f\"realized k2:  {mean_k2_realized:.2f}\\n\")"
   ]
  },
  {
   "cell_type": "code",
   "execution_count": 15,
   "metadata": {},
   "outputs": [
    {
     "data": {
      "image/png": "[encoded data removed]",
      "text/plain": [
       "<Figure size 1000x600 with 1 Axes>"
      ]
     },
     "metadata": {},
     "output_type": "display_data"
    }
   ],
   "source": [
    "fig, ax = plt.subplots(1, 1, figsize=(10, 6)) # on a single figure\n",
    "plt.rcParams['xtick.major.width'] = 1.2\n",
    "plt.rcParams['ytick.major.width'] = 1.2\n",
    "plt.rcParams['axes.linewidth'] = 1.2\n",
    "fig.suptitle(f\"Degree distributions of single ER-SC Ver 1 instance on N = {N} nodes, target k1 = {k1}, k2 = {k2})\", fontsize=14)\n",
    "\n",
    "# PW degree distribution\n",
    "degree_counter_pw = Counter(degrees_pw_instance)\n",
    "k_vals_pw_plot = sorted(degree_counter_pw.keys())\n",
    "norm_k1_plot = np.array([degree_counter_pw[k] for k in k_vals_pw_plot]) / float(N_realized)\n",
    "\n",
    "ax.plot(k_vals_pw_plot, norm_k1_plot, 'o-', label=r'Realized PW Degree',\n",
    "        clip_on=True, mfc='white', color=u'#1f77b4', markersize=7, alpha=0.8)\n",
    "ax.axvline(mean_k1_realized, ymax=1,\n",
    "            linewidth=1.5, linestyle='--', color=u'#1f77b4',\n",
    "            label=f'Avg PW Degree = {mean_k1_realized:.2f}')\n",
    "\n",
    "# HO degree distribution\n",
    "degree_counter_ho = Counter(degrees_ho_instance)\n",
    "k_vals_ho_plot = sorted(degree_counter_ho.keys())\n",
    "norm_k2_plot = np.array([degree_counter_ho[k] for k in k_vals_ho_plot]) / float(N_realized)\n",
    "\n",
    "# ax.plot(k_vals_ho_plot, norm_k2_plot, 'o-', label=r'Realized HO Degree',\n",
    "#         clip_on=True, mfc='white', color=u'#ff7f0e', markersize=5, alpha=0.8)\n",
    "ax.plot(k_vals_ho_plot, norm_k2_plot, marker='^', linestyle='-', label=r'Realized HO Degree',\n",
    "        clip_on=True, mfc='white', color=u'#ff7f0e', markersize=10, alpha=0.8)\n",
    "\n",
    "ax.axvline(mean_k2_realized, ymax=1,\n",
    "            linewidth=1.5, linestyle=':', color=u'#ff7f0e',\n",
    "            label=f'Avg HO Degree = {mean_k2_realized:.2f}')\n",
    "\n",
    "# plot settings\n",
    "ax.tick_params(axis='both', which='major', labelsize=12)\n",
    "ax.set_xlabel('Realized Degree d', size=14)\n",
    "ax.set_ylabel('Density', size=14)\n",
    "ax.set_ylim(bottom=0)\n",
    "\n",
    "# Determine appropriate xlim based on both distributions\n",
    "max_deg_overall = 0\n",
    "if len(degrees_pw_instance) > 0:\n",
    "    max_deg_overall = max(max_deg_overall, np.max(degrees_pw_instance))\n",
    "if len(degrees_ho_instance) > 0:\n",
    "    max_deg_overall = max(max_deg_overall, np.max(degrees_ho_instance))\n",
    "ax.set_xlim(left=-1, right=max_deg_overall + 1 if max_deg_overall > 0 else 10)\n",
    "\n",
    "ax.legend(fontsize=11, loc='upper right', handlelength=1.5, frameon=True) # frameon might look better\n",
    "ax.grid(True, linestyle=':', alpha=0.5)\n",
    "\n",
    "plt.tight_layout(rect=[0, 0.03, 1, 0.93])\n",
    "\n",
    "plt.savefig(f\"../figures/hypergraphs/degree_distributions_ER_SC_ver1.pdf\", \n",
    "            format='pdf', bbox_inches='tight')\n",
    "plt.show()"
   ]
  },
  {
   "cell_type": "code",
   "execution_count": null,
   "metadata": {},
   "outputs": [],
   "source": []
  }
 ],
 "metadata": {
  "kernelspec": {
   "display_name": ".venv",
   "language": "python",
   "name": "python3"
  },
  "language_info": {
   "codemirror_mode": {
    "name": "ipython",
    "version": 3
   },
   "file_extension": ".py",
   "mimetype": "text/x-python",
   "name": "python",
   "nbconvert_exporter": "python",
   "pygments_lexer": "ipython3",
   "version": "3.13.1"
  }
 },
 "nbformat": 4,
 "nbformat_minor": 2
}
