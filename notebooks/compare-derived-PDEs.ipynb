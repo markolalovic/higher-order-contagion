{
 "cells": [
  {
   "cell_type": "markdown",
   "metadata": {},
   "source": [
    "# Comparing derived PDEs\n",
    "\n",
    "My derived PDE:\n",
    "$$\n",
    "\\frac{\\partial g(s, t)}{\\partial t} = \n",
    "(s - 1) \\left[ \n",
    "\\beta_{1} \\left( (N - 1) s \\frac{\\partial g}{\\partial s} - s^{2}  \\frac{\\partial^{2} g}{\\partial s^{2}} \\right)\n",
    "+ \\frac{\\beta_{2}}{2} \\left( (N - 2) s^{2} \\frac{\\partial^{2} g}{\\partial s^{2}} - s^{3} \\frac{\\partial^{3} g}{\\partial s^{3}} \\right) - \\mu \\frac{\\partial g}{\\partial s} \\right].\n",
    "$$\n",
    "\n",
    "If we rename parameters in Peter's derived PDE:\n",
    "$$\n",
    "\\tau \\rightarrow \\beta_{1}, \\qquad\n",
    "\\beta \\rightarrow \\beta_{2}, \\qquad\n",
    "\\gamma \\rightarrow \\mu,\n",
    "$$\n",
    "and rename the PGF from $\\varphi(t, z)$ to $g(s, t)$:\n",
    "$$\n",
    "\\begin{align*}\n",
    "\\partial_{t} g &= \n",
    "\\beta_{1} (N - 1) (s^{2} - s) \\partial_{s} g - \\beta_{1} (s^{3} - s^{2})\\partial^{2}_{s} g \\\\[.5em]\n",
    "&\\quad + \\frac{N \\beta_{2}}{2} s^{2} (s - 1) \\partial^{2}_{s} g \n",
    "- \\frac{\\beta_{2}}{2} s^{3} (s - 1) \\partial^{3}_{s} g \\\\[.5em]\n",
    "&\\quad - \\beta_{2} s^{2} (s - 1) \\partial^{2}_{s} g\n",
    "+ \\mu (1 - s) \\partial_{s} g\n",
    "\\end{align*}\n",
    "$$"
   ]
  },
  {
   "cell_type": "markdown",
   "metadata": {},
   "source": [
    "Derived PDEs are equivalent:"
   ]
  },
  {
   "cell_type": "code",
   "execution_count": 1,
   "metadata": {
    "vscode": {
     "languageId": "wolfram"
    }
   },
   "outputs": [],
   "source": [
    "ClearAll[\"Global`*\"]\n",
    "Symbols[dgs, dgs2, dgs3, s, t, beta1, beta2, mu, Nval];"
   ]
  },
  {
   "cell_type": "code",
   "execution_count": 3,
   "metadata": {
    "vscode": {
     "languageId": "wolfram"
    }
   },
   "outputs": [],
   "source": [
    "rhsMine = (s - 1) * (\n",
    "    beta1 ( (Nval - 1) * s * dgs - s^2 * dgs2 ) +\n",
    "   (beta2 / 2) * ( (Nval - 2) * s^2 * dgs2 - s^3 * dgs3 ) - mu * dgs\n",
    ");"
   ]
  },
  {
   "cell_type": "code",
   "execution_count": 4,
   "metadata": {
    "vscode": {
     "languageId": "wolfram"
    }
   },
   "outputs": [],
   "source": [
    "rhsPeters = beta1 * (Nval - 1) * (s^2 - s) * dgs - beta1 * (s^3 - s^2) * dgs2 +\n",
    "  (Nval * beta2 / 2) * s^2 * (s - 1) * dgs2 - (beta2 / 2) * s^3 * (s - 1) * dgs3 -\n",
    "  beta2 * s^2 * (s - 1) * dgs2 + mu * (1 - s) * dgs;"
   ]
  },
  {
   "cell_type": "code",
   "execution_count": 5,
   "metadata": {
    "vscode": {
     "languageId": "wolfram"
    }
   },
   "outputs": [
    {
     "name": "stdout",
     "output_type": "stream",
     "text": [
      "rhsMine - rhsPeters = 0\n"
     ]
    }
   ],
   "source": [
    "difference = rhsMine - rhsPeters;\n",
    "Print[\"rhsMine - rhsPeters = \", Simplify[Expand[difference]]];"
   ]
  },
  {
   "cell_type": "code",
   "execution_count": null,
   "metadata": {
    "vscode": {
     "languageId": "wolfram"
    }
   },
   "outputs": [],
   "source": []
  }
 ],
 "metadata": {
  "kernelspec": {
   "display_name": "Wolfram Language 14.2",
   "language": "Wolfram Language",
   "name": "wolframlanguage14.2"
  },
  "language_info": {
   "codemirror_mode": "mathematica",
   "file_extension": ".m",
   "mimetype": "application/vnd.wolfram.m",
   "name": "Wolfram Language",
   "pygments_lexer": "mathematica",
   "version": "12.0"
  }
 },
 "nbformat": 4,
 "nbformat_minor": 4
}
