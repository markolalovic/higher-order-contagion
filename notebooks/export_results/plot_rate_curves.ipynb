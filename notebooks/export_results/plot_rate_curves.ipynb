{
 "cells": [
  {
   "cell_type": "markdown",
   "metadata": {},
   "source": [
    "# Plot rate curves"
   ]
  },
  {
   "cell_type": "markdown",
   "metadata": {},
   "source": [
    "```md\n",
    "From `./data/estimates/estimates_{test_name}.csv`\n",
    "```"
   ]
  },
  {
   "cell_type": "code",
   "execution_count": 2,
   "metadata": {},
   "outputs": [],
   "source": [
    "import matplotlib.pylab as plt\n",
    "import numpy as np\n",
    "import pandas as pd\n",
    "import pickle\n",
    "import random\n",
    "import os\n",
    "import sys\n",
    "sys.path.append('../../src/')\n",
    "sys.path.append('../../scripts/')\n",
    "from solve_kolmogorov import *\n",
    "from simulate_gillespie import *\n",
    "from estimate_total_rates import *\n",
    "\n",
    "from scipy.special import comb as nchoosek\n",
    "from scipy.optimize import curve_fit"
   ]
  },
  {
   "cell_type": "code",
   "execution_count": 8,
   "metadata": {},
   "outputs": [
    {
     "data": {
      "text/plain": [
       "'scale_free'"
      ]
     },
     "execution_count": 8,
     "metadata": {},
     "output_type": "execute_result"
    }
   ],
   "source": [
    "# setup\n",
    "N = 1000\n",
    "k_full_range = np.arange(N + 1)\n",
    "\n",
    "# complete class true parameters for for actual rates a_k, b_k, lambda_k\n",
    "true_beta1_for_complete = 2.4 / N\n",
    "true_beta2_for_complete = 4.4 / (N**2)\n",
    "\n",
    "test_names = [\"complete\", \"random_ER\", \"regular\", \"scale_free\"]\n",
    "# TODO: choose colors for each class\n",
    "class_colors = {\n",
    "    \"complete\":   \"red\",\n",
    "    \"random_ER\":  \"green\",\n",
    "    \"regular\":    \"blue\",\n",
    "    \"scale_free\": \"darkorange\"\n",
    "}\n",
    "# TODO: choose symbols for scatter points, tilde data\n",
    "class_markers = { #\n",
    "    \"complete\": \"o\",\n",
    "    \"random_ER\": \"s\",\n",
    "    \"regular\": \"^\",\n",
    "    \"scale_free\": \"D\"\n",
    "}\n",
    "marker_size = 50\n",
    "marker_alpha = 0.85\n",
    "\n",
    "plot_labels = {\n",
    "    \"complete\": \"Complete\", \n",
    "    \"random_ER\": \"Erdős-Rényi\", \n",
    "    \"regular\": \"Regular\",\n",
    "    \"scale_free\": \"Scale-Free\"\n",
    "}\n",
    "\n",
    "test_names = [\"complete\", \"random_ER\", \"regular\", \"scale_free\"]\n",
    "test_name = test_names[3]\n",
    "test_name"
   ]
  },
  {
   "cell_type": "code",
   "execution_count": null,
   "metadata": {},
   "outputs": [],
   "source": []
  }
 ],
 "metadata": {
  "kernelspec": {
   "display_name": ".venv",
   "language": "python",
   "name": "python3"
  },
  "language_info": {
   "codemirror_mode": {
    "name": "ipython",
    "version": 3
   },
   "file_extension": ".py",
   "mimetype": "text/x-python",
   "name": "python",
   "nbconvert_exporter": "python",
   "pygments_lexer": "ipython3",
   "version": "3.13.1"
  }
 },
 "nbformat": 4,
 "nbformat_minor": 2
}
