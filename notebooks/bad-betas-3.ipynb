{
 "cells": [
  {
   "cell_type": "markdown",
   "metadata": {},
   "source": [
    "# Bad Betas\n",
    "\n",
    "Tasks: \n",
    "\n",
    "- try changing `method=\"RK45\"` using `solve_ivp`\n",
    "\n",
    "- system might be stiff and Runge Kutta might fail\n",
    "\n",
    "\n",
    "Notes:\n",
    "\n",
    "\n",
    "> Explicit Runge-Kutta methods (‘RK23’, ‘RK45’, ‘DOP853’) should be used for non-stiff problems and implicit methods (‘Radau’, ‘BDF’) for stiff problems\n",
    "\n",
    "i.e. for unstable problems unless the step size is taken to be extremely small:\n",
    "\n",
    "- Implicit Runge-Kutta method might be good\n",
    "\n",
    "- BDF (Backward Differentiation Formula) implicit multi-step method should be good\n",
    "\n",
    "- LSODA uses adaptive Adams methods for non-stiff parts and BDF methods for stiff parts, automatically switching between them\n"
   ]
  },
  {
   "cell_type": "code",
   "execution_count": 5,
   "metadata": {},
   "outputs": [],
   "source": [
    "import numpy as np\n",
    "import matplotlib.pylab as plt\n",
    "from scipy.integrate import solve_ivp\n",
    "import pickle\n",
    "from scipy.integrate import odeint\n",
    "\n",
    "import sys\n",
    "sys.path.append('../tests/')\n",
    "from test_solving_KEs_complete import *"
   ]
  },
  {
   "cell_type": "code",
   "execution_count": 6,
   "metadata": {},
   "outputs": [],
   "source": [
    "methods = [\n",
    "    \"RK45\",\n",
    "    \"BDF\",\n",
    "    \"Radau\",\n",
    "    \"LSODA\"\n",
    "]"
   ]
  },
  {
   "cell_type": "code",
   "execution_count": 7,
   "metadata": {},
   "outputs": [],
   "source": [
    "bad_indices = [\n",
    "    (7, 8),\n",
    "    (7, 9),\n",
    "    (8, 6),\n",
    "    (8, 7),\n",
    "    (8, 8),\n",
    "    (8, 9),\n",
    "    (9, 4),\n",
    "    (9, 5),\n",
    "    (9, 6),\n",
    "    (9, 7),\n",
    "    (9, 8),\n",
    "    (9, 9)]"
   ]
  },
  {
   "cell_type": "code",
   "execution_count": null,
   "metadata": {},
   "outputs": [
    {
     "name": "stdout",
     "output_type": "stream",
     "text": [
      "Setup: \n",
      "\n",
      "\tH = Complete Hypergraph, N = 100, I0 = 10\n",
      "\n",
      "\tbeta1 = 0.02, beta2 = 0.0004, mu = 1\n",
      "\n"
     ]
    }
   ],
   "source": [
    "\"\"\"Complete case test.\"\"\"\n",
    "# setup\n",
    "# TODO: increase these values\n",
    "N = 100\n",
    "I0 = 10 \n",
    "time_max = 100\n",
    "\n",
    "beta1 = 2 / N       # pairwise infection rate\n",
    "beta2 = 4 / (N**2)  # hyperedge contagion rate\n",
    "mu    = 1           # recovery rate\n",
    "\n",
    "print(f\"Setup: \\n\")\n",
    "print(f\"\\tH = Complete Hypergraph, N = {N}, I0 = {I0}\\n\")\n",
    "print(f\"\\tbeta1 = {beta1}, beta2 = {beta2}, mu = {mu}\\n\")"
   ]
  },
  {
   "cell_type": "code",
   "execution_count": 9,
   "metadata": {},
   "outputs": [
    {
     "name": "stdout",
     "output_type": "stream",
     "text": [
      "beta2: [0.001 0.011 0.021 0.031 0.041], ..., [0.071 0.081]\n",
      "beta2: [1.0e-05 1.1e-04 2.1e-04 3.1e-04 4.1e-04], ..., [0.071 0.081]\n"
     ]
    }
   ],
   "source": [
    "i_max = 10\n",
    "j_max = 10\n",
    "\n",
    "k_star = np.zeros((i_max, j_max)) # to store the values k^* = E[X(t_max)]\n",
    "\n",
    "eps = 1e-1 # shift for esp to not start with 0 !\n",
    "\n",
    "beta1_vec = (np.array(list(range(i_max))) + eps) / N\n",
    "beta2_vec = (np.array(list(range(j_max))) + eps) / (N**2)\n",
    "\n",
    "print(f\"beta2: {beta1_vec[:5]}, ..., {beta1_vec[-3:-1]}\")\n",
    "print(f\"beta2: {beta2_vec[:5]}, ..., {beta1_vec[-3:-1]}\")"
   ]
  },
  {
   "cell_type": "code",
   "execution_count": 10,
   "metadata": {},
   "outputs": [
    {
     "name": "stdout",
     "output_type": "stream",
     "text": [
      "p0 = [0. 0. 0. 0. 0. 0. 0. 0. 0. 0. 1. 0. 0. 0. 0. 0. 0. 0. 0. 0.] ...\n"
     ]
    }
   ],
   "source": [
    "M = N + 1 # number of all states\n",
    "\n",
    "# set the initial condition\n",
    "p0 = np.zeros(M)\n",
    "p0[I0] = 1.0 # all other states have prob 0 at time 0\n",
    "print(f\"p0 = {p0[:20]} ...\")"
   ]
  },
  {
   "cell_type": "code",
   "execution_count": 11,
   "metadata": {},
   "outputs": [
    {
     "data": {
      "text/plain": [
       "array([  0.,   1.,   2.,   3.,   4.,   5.,   6.,   7.,   8.,   9.,  10.,\n",
       "        11.,  12.,  13.,  14.,  15.,  16.,  17.,  18.,  19.,  20.,  21.,\n",
       "        22.,  23.,  24.,  25.,  26.,  27.,  28.,  29.,  30.,  31.,  32.,\n",
       "        33.,  34.,  35.,  36.,  37.,  38.,  39.,  40.,  41.,  42.,  43.,\n",
       "        44.,  45.,  46.,  47.,  48.,  49.,  50.,  51.,  52.,  53.,  54.,\n",
       "        55.,  56.,  57.,  58.,  59.,  60.,  61.,  62.,  63.,  64.,  65.,\n",
       "        66.,  67.,  68.,  69.,  70.,  71.,  72.,  73.,  74.,  75.,  76.,\n",
       "        77.,  78.,  79.,  80.,  81.,  82.,  83.,  84.,  85.,  86.,  87.,\n",
       "        88.,  89.,  90.,  91.,  92.,  93.,  94.,  95.,  96.,  97.,  98.,\n",
       "        99., 100., 101., 102., 103., 104., 105., 106., 107., 108., 109.,\n",
       "       110., 111., 112., 113., 114., 115., 116., 117., 118., 119., 120.,\n",
       "       121., 122., 123., 124., 125., 126., 127., 128., 129., 130., 131.,\n",
       "       132., 133., 134., 135., 136., 137., 138., 139., 140., 141., 142.,\n",
       "       143., 144., 145., 146., 147., 148., 149., 150., 151., 152., 153.,\n",
       "       154., 155., 156., 157., 158., 159., 160., 161., 162., 163., 164.,\n",
       "       165., 166., 167., 168., 169., 170., 171., 172., 173., 174., 175.,\n",
       "       176., 177., 178., 179., 180., 181., 182., 183., 184., 185., 186.,\n",
       "       187., 188., 189., 190., 191., 192., 193., 194., 195., 196., 197.,\n",
       "       198., 199., 200.])"
      ]
     },
     "execution_count": 11,
     "metadata": {},
     "output_type": "execute_result"
    }
   ],
   "source": [
    "# time range and times to evaluate solution\n",
    "nsteps = 201\n",
    "t_span = (0.0, time_max)\n",
    "t_eval = np.linspace(t_span[0], t_span[1], nsteps)\n",
    "t_eval"
   ]
  },
  {
   "cell_type": "code",
   "execution_count": 12,
   "metadata": {},
   "outputs": [],
   "source": [
    "# for method in methods:\n",
    "# sol = solve_ivp(f_ode, \n",
    "#                 t_span, \n",
    "#                 p0, \n",
    "#                 t_eval=t_eval,\n",
    "#                 method=method\n",
    "# )"
   ]
  },
  {
   "cell_type": "code",
   "execution_count": 13,
   "metadata": {},
   "outputs": [
    {
     "name": "stderr",
     "output_type": "stream",
     "text": [
      "/var/folders/_8/lk5mcvyj2cz0rzsbxlg5954c0000gn/T/ipykernel_4403/2102752092.py:11: ODEintWarning: Excess work done on this call (perhaps wrong Dfun type). Run with full_output = 1 to get quantitative information.\n",
      "  sol = odeint(ode_system_complete, p0, t_eval)\n"
     ]
    }
   ],
   "source": [
    "# testing each method on single bad beta1, beta2 pair\n",
    "bad_i, bad_j = bad_indices[0]\n",
    "beta1 = beta1_vec[bad_i]\n",
    "beta2 = beta2_vec[bad_j]\n",
    "\n",
    "# prepare ode system first\n",
    "ode_system_complete = list_all_ODEs_complete(N, beta1, beta2, mu)\n",
    "\n",
    "def f_ode(t, p):\n",
    "    return ode_system_complete(t, p)\n",
    "sol = odeint(ode_system_complete, p0, t_eval)"
   ]
  },
  {
   "cell_type": "code",
   "execution_count": 14,
   "metadata": {},
   "outputs": [
    {
     "data": {
      "text/plain": [
       "(201, 101)"
      ]
     },
     "execution_count": 14,
     "metadata": {},
     "output_type": "execute_result"
    }
   ],
   "source": [
    "sol.shape"
   ]
  },
  {
   "cell_type": "code",
   "execution_count": 15,
   "metadata": {},
   "outputs": [
    {
     "data": {
      "text/plain": [
       "array([ 0.00000000e+000,  4.08668589e-009,  4.45196962e+252,\n",
       "        2.55170650e+151,  1.21272093e-267,  1.29509168e+161,\n",
       "        1.78909005e+161,  6.42261462e+045,  8.73990549e+245,\n",
       "        1.81596891e-152,  7.34483871e+223,  2.64521037e+185,\n",
       "        1.28264699e-312,  1.33360319e+241,  1.27991129e-152,\n",
       "        1.03935518e-028,  3.32524709e-188,  8.28139228e-310,\n",
       "        1.24002374e+180,  1.33360320e+241,  5.08863857e-299,\n",
       "        6.38166389e+247,  1.05957293e+214,  2.46090815e-154,\n",
       "        7.01413727e-009,  4.98326333e+151, -3.42206551e-294,\n",
       "        2.39091485e-212, -3.14848348e-294,  1.13628931e-153,\n",
       "        1.48511578e+161,  6.38796479e+029,  1.08792036e-202,\n",
       "        5.70727135e+188,  1.04146951e-152,  1.39691838e-258,\n",
       "        5.70144980e+188,  3.45211702e+175,  1.67792004e+243,\n",
       "        1.99270017e+209,  1.28264699e-312,  1.12296098e+219,\n",
       "        1.06112095e-153,  5.46781623e+241,  4.26129965e+257,\n",
       "        1.27661731e-152,  7.25416377e-043,  8.78307194e-268,\n",
       "        9.92588757e-177,  4.82410896e+228,  1.81270588e-152,\n",
       "       -1.39234738e+188,  8.36322685e-299,  6.80275393e+199,\n",
       "        6.96409693e+252,  8.03704345e-095,  2.25022550e+223,\n",
       "        5.81241632e+180,  1.14303483e+243,  6.22651684e+228,\n",
       "        1.17633410e-047,  9.92646324e-263,  2.31881454e-152,\n",
       "        7.52011830e+199,  1.71549258e+294,  9.11756010e-304,\n",
       "        1.94862285e-153,  6.01347002e-154,  1.42644423e-153,\n",
       "        1.61446824e+184,  8.73995939e+245,  1.28580341e+294,\n",
       "        3.59189086e+246,  1.16505870e-310,  1.48397680e+214,\n",
       "        6.96411114e+252,  2.38954692e+180,  3.68777421e+180,\n",
       "        5.83461985e-302,  8.14781915e-215,  1.28515403e+248,\n",
       "        1.09403127e-303,  6.71485218e-299,  1.64329159e-287,\n",
       "        1.95568837e-154,  3.78576700e-270,  6.01347002e-154,\n",
       "        3.04040980e+180,  1.33360356e+241,  3.48343434e+228,\n",
       "        1.27874046e-152,  9.82158081e+252,  9.30907068e+242,\n",
       "        3.10445168e+289,  2.73460379e+161,  2.49294782e-306,\n",
       "        1.56681200e-248,  1.45679039e+171,  3.65284508e+233,\n",
       "        1.27734658e-152,  9.11571042e-304,  3.39394644e-111,\n",
       "        5.28595587e-085,  3.20046198e-308,  6.01347002e-154,\n",
       "        1.11253693e-308,  9.08367203e+223,  2.64686156e+180,\n",
       "        1.06400250e+248,  5.83439495e+252,  4.87855743e+199,\n",
       "        5.00989767e+202,  1.28515889e+294,  6.96411114e+252,\n",
       "        4.00444532e+252,  9.75025989e+199,  3.10499169e+169,\n",
       "        9.77824556e+199,  1.18498812e-303,  1.48724023e+294,\n",
       "        4.26137358e+257,  3.17095857e+180,  6.01346953e-154,\n",
       "        9.27505546e+242,  2.10313231e+262,  7.29542245e+175,\n",
       "        4.64802994e+199,  1.01080405e+261,  4.85251227e-067,\n",
       "        1.03103300e-259,  4.79017029e+180,  6.30404283e+173,\n",
       "        1.10322954e+161,  7.03540903e+199,  2.47379808e-091,\n",
       "        9.26955367e+199,  2.91819004e+257,  2.17343148e+243,\n",
       "        3.32606867e+238,  4.61559563e+281,  3.22925319e-310,\n",
       "        1.73073372e-308,  8.13870266e-310,              nan,\n",
       "        5.05926237e-310,              nan,              nan,\n",
       "        5.69755872e-311,              nan,  2.38766966e-310,\n",
       "                    nan,              nan,              nan,\n",
       "        6.46338698e-310,              nan,  9.17487320e-310,\n",
       "                    nan,  6.79526712e-310,  4.80759367e-310,\n",
       "        7.08789034e-310,  6.05087100e-310,  6.88332995e-310,\n",
       "        4.63125581e-310,  1.75255633e-310,  8.17329119e-310,\n",
       "                    nan,  4.45619116e-310,  9.25168945e-310,\n",
       "                    nan,              nan,  9.16086803e-310,\n",
       "        8.48182938e-310,  5.72068845e-310,  2.93429578e-310,\n",
       "        8.19769414e-310,  7.11229329e-310,              nan,\n",
       "                    nan,  7.12438867e-310,              nan,\n",
       "        1.16709769e-310,  8.89158676e-310,  7.87387758e-310,\n",
       "        8.67323340e-310,  4.20940305e-310,  7.53796565e-310,\n",
       "        2.18310927e-310,  3.84505637e-310,  1.84210455e-310,\n",
       "        8.04660804e-310,              nan,  3.80686046e-311,\n",
       "        3.67126492e-310,              nan,              nan,\n",
       "        1.37908507e-310,  7.45244922e-310,              nan,\n",
       "        8.50368593e-310,              nan,  3.30437185e-310])"
      ]
     },
     "execution_count": 15,
     "metadata": {},
     "output_type": "execute_result"
    }
   ],
   "source": [
    "sol[:,0]"
   ]
  },
  {
   "cell_type": "code",
   "execution_count": 16,
   "metadata": {},
   "outputs": [],
   "source": [
    "expected_values = np.zeros(t_eval.shape[0], dtype=float)\n",
    "# expected_values"
   ]
  },
  {
   "cell_type": "code",
   "execution_count": 17,
   "metadata": {},
   "outputs": [],
   "source": [
    "for i in range(t_eval.shape[0]):\n",
    "    expected_values[i] = np.sum([k * sol[i, k] for k in range(M)])\n",
    "# expected_values"
   ]
  },
  {
   "cell_type": "code",
   "execution_count": 18,
   "metadata": {},
   "outputs": [],
   "source": [
    "# expected_values = calculate_expected_values(sol, t_eval)"
   ]
  },
  {
   "cell_type": "code",
   "execution_count": 19,
   "metadata": {},
   "outputs": [
    {
     "name": "stderr",
     "output_type": "stream",
     "text": [
      "/var/folders/_8/lk5mcvyj2cz0rzsbxlg5954c0000gn/T/ipykernel_4403/1942055377.py:6: UserWarning: No artists with labels found to put in legend.  Note that artists whose label start with an underscore are ignored when legend() is called with no argument.\n",
      "  plt.legend()\n"
     ]
    },
    {
     "data": {
      "image/png": "[encoded data removed]",
      "text/plain": [
       "<Figure size 640x480 with 1 Axes>"
      ]
     },
     "metadata": {},
     "output_type": "display_data"
    }
   ],
   "source": [
    "plt.figure()\n",
    "plt.plot(t_eval, expected_values)\n",
    "plt.xlabel(\"Time\")\n",
    "plt.ylabel(\"Expected number of infected\")\n",
    "plt.grid(True)\n",
    "plt.legend()\n",
    "plt.savefig(\"../figures/solutions-kolmogorov/complete/bad-beta-pair-methods-2.pdf\", \n",
    "            format='pdf', bbox_inches='tight')\n",
    "plt.show()"
   ]
  },
  {
   "cell_type": "code",
   "execution_count": null,
   "metadata": {},
   "outputs": [],
   "source": []
  }
 ],
 "metadata": {
  "kernelspec": {
   "display_name": ".venv",
   "language": "python",
   "name": "python3"
  },
  "language_info": {
   "codemirror_mode": {
    "name": "ipython",
    "version": 3
   },
   "file_extension": ".py",
   "mimetype": "text/x-python",
   "name": "python",
   "nbconvert_exporter": "python",
   "pygments_lexer": "ipython3",
   "version": "3.9.6"
  }
 },
 "nbformat": 4,
 "nbformat_minor": 2
}
