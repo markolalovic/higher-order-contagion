{
 "cells": [
  {
   "cell_type": "markdown",
   "metadata": {},
   "source": [
    "# Estimator properties\n",
    "\n",
    "- fix `nruns`, `nsims`, `time_max`\n",
    "\n",
    "- Repeat the estimaton process for `nruns`:\n",
    "\n",
    "- For all 3 regimes (low regime = 0, medium regime = 1, high regime = 2) with respect to the value of $k^{*} = E[ X(t_{max}) ]$:\n",
    "\n",
    "- Pick (unscaled beta1, unscaled beta2) values from `betas_unscaled_selected[regime]`\n",
    "\n",
    "- Scale them by N and N^2 to get (beta1, beta2) values\n",
    "\n",
    "- Run `gillespie_sim()` with these beta1, beta2 values to get sim_results\n",
    "\n",
    "- Save sim_results to: `gillespie-sims_{test_name}_{regime}`\n",
    "\n"
   ]
  },
  {
   "cell_type": "code",
   "execution_count": null,
   "metadata": {},
   "outputs": [
    {
     "name": "stdout",
     "output_type": "stream",
     "text": [
      "all_regimes: \n",
      "\n",
      "\t H = Complete Hypergraph, N = 100, I0 = 1, time_max = 20,\n",
      "\t beta1 * N = 2.556, beta2 * N^2 = 8.241, mu = 1,\n",
      "\t with estimation based on 50 Gillespie simulation runs\n",
      "\n"
     ]
    }
   ],
   "source": [
    "import numpy as np\n",
    "import matplotlib.pylab as plt\n",
    "\n",
    "from scipy.integrate import solve_ivp\n",
    "\n",
    "import pickle\n",
    "import sys\n",
    "\n",
    "sys.path.append(\"../src/\")\n",
    "from Hypergraphs import CompleteHypergraph\n",
    "from simulate_gillespie import *\n",
    "from solve_kolmogorov import *\n",
    "from estimate_total_rates import *\n",
    "\n",
    "## --- Setup --- ##\n",
    "test_name = \"all_regimes\"\n",
    "\n",
    "g_type = \"complete\"\n",
    "\n",
    "# TODO: increase these values\n",
    "N = 100\n",
    "g = CompleteHypergraph(N)\n",
    "\n",
    "I0 = 1\n",
    "\n",
    "nsims = 50\n",
    "run_gillespie_simulations = True\n",
    "\n",
    "time_max = 20\n",
    "\n",
    "# selected betas for 3 regimes: .25N, .5N, .75N\n",
    "betas_unscaled_selected = [(1.778, 2.552), (2.556, 8.241), (5.667, 13.414)]\n",
    "betas_unscaled = betas_unscaled_selected[1] # TODO: select regime, e.g.: 1 for .5N\n",
    "\n",
    "beta1 = betas_unscaled[0] / N       # pairwise infection rate\n",
    "beta2 = betas_unscaled[1] / (N**2)  # hyperedge contagion rate\n",
    "mu    = 1  # recovery rate\n",
    "\n",
    "print(f\"{test_name}: \\n\")\n",
    "print(f\"\\t H = Complete Hypergraph, N = {N}, I0 = {I0}, time_max = {time_max},\")\n",
    "print(f\"\\t beta1 * N = {beta1 * N}, beta2 * N^2 = {beta2 * (N**2)}, mu = {mu},\")\n",
    "print(f\"\\t with estimation based on {nsims} Gillespie simulation runs\\n\")\n",
    "\n",
    "## --- Run Gillespie ---\n",
    "I0_gillespie = 1 # TODO: go over the range when necessary\n",
    "initial_infections = list(range(I0_gillespie))\n",
    "\n",
    "if run_gillespie_simulations: \n",
    "    X_sims = []\n",
    "    for _ in range(nsims):\n",
    "        X_t = gillespie_sim(\n",
    "            g, beta1, beta2, mu, initial_infections, time_max)\n",
    "        X_sims.append(X_t)\n",
    "\n",
    "    # save the simulation results\n",
    "    sim_results = {f'sim_{i}': X_sims[i] for i in range(nsims)}\n",
    "    np.savez_compressed(f'../results/gillespie-sims_{test_name}.npz', **sim_results)\n",
    "\n"
   ]
  },
  {
   "cell_type": "code",
   "execution_count": null,
   "metadata": {},
   "outputs": [],
   "source": []
  }
 ],
 "metadata": {
  "kernelspec": {
   "display_name": ".venv",
   "language": "python",
   "name": "python3"
  },
  "language_info": {
   "codemirror_mode": {
    "name": "ipython",
    "version": 3
   },
   "file_extension": ".py",
   "mimetype": "text/x-python",
   "name": "python",
   "nbconvert_exporter": "python",
   "pygments_lexer": "ipython3",
   "version": "3.13.1"
  }
 },
 "nbformat": 4,
 "nbformat_minor": 2
}
