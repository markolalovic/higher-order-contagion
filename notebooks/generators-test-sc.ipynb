{
 "cells": [
  {
   "cell_type": "markdown",
   "metadata": {},
   "source": [
    "# Simplicial Complex Generators Test"
   ]
  },
  {
   "cell_type": "markdown",
   "metadata": {},
   "source": [
    "## Erdos-Renyi SC\n",
    "\n",
    "### 1. \n",
    "$G(N, p_1, p_2)$ with number of filled triangles (2-simplices) is $p_2 \\, \\binom{N}{3}$ with downward closure property: if $i, j, k \\in SC$ then all pairs in SC.\n",
    "\n",
    "Approaches:\n",
    "  - Create a $G(N, p_1)$ skeleton first, then fill in triangles (add any \"open\" triangle as 2-simplex with prob $p_2$)\n",
    "\n",
    "  - Independent, filter / project: generate $G(N, p_1, p_2)$ independently, then if $i, j, k$ was picked but not one of its edges: discard it or add mising edges. Here, the actual number of triangles can be too low.\n"
   ]
  },
  {
   "cell_type": "markdown",
   "metadata": {},
   "source": [
    "### 2. \n",
    "Build clique complexes on E-R random graph\n",
    "\n",
    "- Create $G(N, p_1)$ graph\n",
    "- Find cliques (3-cliques only), and fill-in all triangles (add the 2-simplices), downward closure guaranteed by construction. The prob of triangle existing is not independent, but it's prob of all edges of triangle existing ($p_1^3$ for a triangle) summed over all possible triangles. Makes it hard to tune the density.."
   ]
  },
  {
   "cell_type": "markdown",
   "metadata": {},
   "source": [
    "### 3. \n",
    "A random geometric constuction, e.g. Vietoris-Rips based on point placement. Input: disntace threshold eps, and point distribution e.g. uniform on a unit square. Approach: Draw the points in a $[0, 1]^{d}$ then connect them if distance below threshold, it's a clique complex of the graph for triangles. Less pure less combinatorial approach.."
   ]
  },
  {
   "cell_type": "code",
   "execution_count": 1,
   "metadata": {},
   "outputs": [],
   "source": [
    "import sys\n",
    "sys.path.append('../src/')\n",
    "sys.path.append('../scripts/')\n",
    "\n",
    "from Hypergraphs import EmptyHypergraph\n",
    "\n",
    "import numpy as np\n",
    "import matplotlib.pyplot as plt\n",
    "import os\n",
    "\n",
    "from scipy.stats import zipf # for power-law Zeta distribution\n",
    "# from itertools import combinations\n",
    "from scipy.special import comb"
   ]
  },
  {
   "cell_type": "markdown",
   "metadata": {},
   "source": [
    "## E-R SC"
   ]
  },
  {
   "cell_type": "code",
   "execution_count": 2,
   "metadata": {},
   "outputs": [],
   "source": [
    "from generators_sc import *"
   ]
  },
  {
   "cell_type": "code",
   "execution_count": 15,
   "metadata": {},
   "outputs": [
    {
     "name": "stdout",
     "output_type": "stream",
     "text": [
      "Using (k1, k2) = (20, 6)\n",
      "p1 = 0.0081\n",
      "p2 = 0.00001204\n",
      "giant_order = 1000\n",
      "g_edges: [(0, 24), (0, 163), (0, 231), (0, 272), (0, 286)], ..., [(441, 689, 835), (365, 386, 957), (272, 769, 934), (435, 476, 605), (22, 222, 865)]\n"
     ]
    }
   ],
   "source": [
    "# test ER SC\n",
    "N = 1000\n",
    "\n",
    "k1_k2_list = [(3, 1), (6, 2), (10, 3), (20, 6)]\n",
    "(k1, k2) = k1_k2_list[3]\n",
    "print(f\"Using (k1, k2) = {(k1, k2)}\")\n",
    "\n",
    "p1, p2 = p1_p2_ER_like_simplicial_complex(k1,k2,N)\n",
    "\n",
    "print(f\"p1 = {p1:.4f}\")\n",
    "print(f\"p2 = {p2:.8f}\")\n",
    "\n",
    "giant_order, edges, triangles = ER_like_simplicial_complex(N,p1,p2)\n",
    "print(f\"giant_order = {giant_order}\")\n",
    "\n",
    "g_edges = []\n",
    "all_edges = edges.tolist() + triangles.tolist()\n",
    "for edge in all_edges:\n",
    "    g_edges.append(tuple(edge))\n",
    "print(f\"g_edges: {g_edges[:5]}, ..., {g_edges[-5:]}\")"
   ]
  },
  {
   "cell_type": "code",
   "execution_count": 16,
   "metadata": {},
   "outputs": [
    {
     "data": {
      "text/plain": [
       "1.0"
      ]
     },
     "execution_count": 16,
     "metadata": {},
     "output_type": "execute_result"
    }
   ],
   "source": [
    "inter_order_overlap(edges, triangles)"
   ]
  },
  {
   "cell_type": "code",
   "execution_count": 17,
   "metadata": {},
   "outputs": [
    {
     "name": "stdout",
     "output_type": "stream",
     "text": [
      "0.008105369807497468 0.006907755278982137\n"
     ]
    },
    {
     "data": {
      "text/plain": [
       "np.True_"
      ]
     },
     "execution_count": 17,
     "metadata": {},
     "output_type": "execute_result"
    }
   ],
   "source": [
    "print(p1, np.log(N) / N)\n",
    "p1 > np.log(N) / N"
   ]
  },
  {
   "cell_type": "code",
   "execution_count": 18,
   "metadata": {},
   "outputs": [],
   "source": [
    "# TODO: increase to get connected\n",
    "# 0.0097 > np.log(N) / N # simulated p1_est"
   ]
  },
  {
   "cell_type": "code",
   "execution_count": 19,
   "metadata": {},
   "outputs": [
    {
     "name": "stdout",
     "output_type": "stream",
     "text": [
      "p1_est = 0.0199\n",
      "p2_est = 0.00001202\n"
     ]
    },
    {
     "data": {
      "text/plain": [
       "1000.0"
      ]
     },
     "execution_count": 19,
     "metadata": {},
     "output_type": "execute_result"
    }
   ],
   "source": [
    "test_p1_p2 = True\n",
    "inter_order_overlaps = []\n",
    "if test_p1_p2:\n",
    "    max_pw_edges = N * (N - 1) / 2\n",
    "    max_ho_edges = N * (N - 1) * (N - 2) / 6\n",
    "\n",
    "    p1_est = []\n",
    "    p2_est = []\n",
    "    nsims = 1000\n",
    "    for _ in range(nsims):\n",
    "        p1, p2 = p1_p2_ER_like_simplicial_complex(k1,k2,N)\n",
    "        _, edges, triangles = ER_like_simplicial_complex(N,p1,p2)\n",
    "        p1_est.append(len(edges) / max_pw_edges)\n",
    "        p2_est.append(len(triangles) / max_ho_edges)\n",
    "\n",
    "        inter_order_overlaps.append(inter_order_overlap(edges, triangles))\n",
    "\n",
    "    print(f\"p1_est = {np.mean(p1_est):.4f}\")\n",
    "    print(f\"p2_est = {np.mean(p2_est):.8f}\")\n",
    "    # p1_est = 0.0097\n",
    "    # p2_est = 0.00000568     \n",
    "    # p1 = 0.0040\n",
    "    # p2 = 0.00000602\n",
    "sum(inter_order_overlaps) # == nsims"
   ]
  },
  {
   "cell_type": "code",
   "execution_count": 20,
   "metadata": {},
   "outputs": [
    {
     "name": "stdout",
     "output_type": "stream",
     "text": [
      "k1_est = 20.0860\n",
      "k2_est = 6.0720\n"
     ]
    }
   ],
   "source": [
    "test_k1_k2 = True\n",
    "inter_order_overlaps = []\n",
    "if test_k1_k2:\n",
    "    k1_est = []\n",
    "    k2_est = []\n",
    "    nsims = 1000\n",
    "    for _ in range(nsims):\n",
    "        p1, p2 = p1_p2_ER_like_simplicial_complex(k1,k2,N)\n",
    "        _, edges, triangles = ER_like_simplicial_complex(N,p1,p2)\n",
    "\n",
    "        g_type = \"random_ER\"\n",
    "        g = EmptyHypergraph(N)\n",
    "        g.name = g_type\n",
    "        g.set_edges(g_edges)\n",
    "\n",
    "        k1_sim = np.mean([len(g.neighbors(i, 1)) for i in list(g.nodes.keys())])\n",
    "        k2_sim = np.mean([len(g.neighbors(i, 2)) for i in list(g.nodes.keys())])\n",
    "\n",
    "        k1_est.append(k1_sim)\n",
    "        k2_est.append(k2_sim)\n",
    "    \n",
    "    print(f\"k1_est = {np.mean(k1_est):.4f}\")\n",
    "    print(f\"k2_est = {np.mean(k2_est):.4f}\")\n",
    "    # Using (k1, k2) = (10, 3)\n",
    "    # k1_est = 9.6480\n",
    "    # k2_est = 2.8440"
   ]
  },
  {
   "cell_type": "markdown",
   "metadata": {},
   "source": [
    "# Check downward closure property\n",
    "\n",
    "In this case, presence of triangle implies presence of all pairwise edges of this triangle."
   ]
  },
  {
   "cell_type": "code",
   "execution_count": 21,
   "metadata": {},
   "outputs": [
    {
     "name": "stdout",
     "output_type": "stream",
     "text": [
      "target p1: 0.0040\n",
      "target p2: 0.00000602\n",
      "\n",
      "target pw edges: 2012/499500\n",
      "target ho edges: 1000/166167000\n",
      "\n"
     ]
    }
   ],
   "source": [
    "N = 1000\n",
    "max_pw_edges = comb(N, 2, exact=True) # N * (N - 1) / 2\n",
    "max_ho_edges = comb(N, 3, exact=True) # N * (N - 1) * (N - 2) / 6\n",
    "\n",
    "k1_k2_list = [(3, 1), (6, 2), (10, 3), (20, 6)]\n",
    "(k1, k2) = k1_k2_list[2]\n",
    "\n",
    "p1, p2 = p1_p2_ER_like_simplicial_complex(k1,k2,N)\n",
    "\n",
    "print(f\"target p1: {p1:.4f}\")\n",
    "print(f\"target p2: {p2:.8f}\\n\")\n",
    "print(f\"target pw edges: {p1 * max_pw_edges:.0f}/{max_pw_edges:.0f}\")\n",
    "print(f\"target ho edges: {p2 * max_ho_edges:.0f}/{max_ho_edges:.0f}\\n\")"
   ]
  },
  {
   "cell_type": "code",
   "execution_count": 22,
   "metadata": {},
   "outputs": [
    {
     "name": "stdout",
     "output_type": "stream",
     "text": [
      "\tER_SC on 1000 nodes with 5726 edges.\n",
      "\n"
     ]
    }
   ],
   "source": [
    "_, edges, triangles = ER_like_simplicial_complex(N,p1,p2)\n",
    "\n",
    "all_edges = edges.tolist() + triangles.tolist()\n",
    "g_edges = []\n",
    "for edge in all_edges:\n",
    "    g_edges.append(tuple(edge))\n",
    "\n",
    "g = EmptyHypergraph(N)\n",
    "g.name = \"ER_SC\"\n",
    "g.set_edges(g_edges)\n",
    "g.print()"
   ]
  },
  {
   "cell_type": "code",
   "execution_count": 23,
   "metadata": {},
   "outputs": [
    {
     "name": "stdout",
     "output_type": "stream",
     "text": [
      "[[  0 216]\n",
      " [  0 281]\n",
      " [  0 370]\n",
      " [  0 399]\n",
      " [  0 462]]\n",
      "[[170 354 408]\n",
      " [166 405 766]\n",
      " [459 737 764]\n",
      " [335 651 699]\n",
      " [ 39 301 384]]\n"
     ]
    }
   ],
   "source": [
    "N = 1000\n",
    "k1, k2 = (10, 3)\n",
    "p1, p2 = p1_p2_ER_like_simplicial_complex(k1,k2,N)\n",
    "_, edges, triangles = ER_like_simplicial_complex(N,p1,p2)\n",
    "\n",
    "print(edges[:5])\n",
    "print(triangles[:5])"
   ]
  },
  {
   "cell_type": "code",
   "execution_count": 24,
   "metadata": {},
   "outputs": [],
   "source": [
    "def check_downward_closure(edges, triangles):\n",
    "    edge_set = set()\n",
    "    for edge in edges:\n",
    "        edge_set.add(tuple(sorted(edge)))\n",
    "\n",
    "    is_valid_sc = True\n",
    "    invalid_triangles = []\n",
    "\n",
    "    for triangle in triangles:\n",
    "        tri_sorted = sorted(triangle)\n",
    "        v1, v2, v3 = tri_sorted[0], tri_sorted[1], tri_sorted[2]\n",
    "\n",
    "        edge1 = tuple(sorted((v1, v2)))\n",
    "        edge2 = tuple(sorted((v1, v3)))\n",
    "        edge3 = tuple(sorted((v2, v3)))\n",
    "\n",
    "        # check if all 3 edges are present\n",
    "        if not (edge1 in edge_set and edge2 in edge_set and edge3 in edge_set):\n",
    "            is_valid_sc = False\n",
    "            invalid_triangles.append(list(tri_sorted))\n",
    "            print(f\"Invalid triangle {list(tri_sorted)}: \")\n",
    "            if edge1 not in edge_set: print(f\"\\t Missing: {edge1}\")\n",
    "            if edge2 not in edge_set: print(f\"\\t Missing: {edge2}\")\n",
    "            if edge3 not in edge_set: print(f\"\\t Missing: {edge3}\")\n",
    "    return is_valid_sc"
   ]
  },
  {
   "cell_type": "code",
   "execution_count": 25,
   "metadata": {},
   "outputs": [],
   "source": [
    "N = 1000\n",
    "k1, k2 = (10, 3)\n",
    "\n",
    "nsims = 1000\n",
    "for _ in range(nsims):\n",
    "    p1, p2 = p1_p2_ER_like_simplicial_complex(k1,k2,N)\n",
    "    _, edges, triangles = ER_like_simplicial_complex(N,p1,p2)\n",
    "    is_valid_sc = check_downward_closure(edges, triangles)\n",
    "    if not is_valid_sc:\n",
    "        print(\"generated invalid SC\")"
   ]
  },
  {
   "cell_type": "code",
   "execution_count": 14,
   "metadata": {},
   "outputs": [
    {
     "data": {
      "text/plain": [
       "True"
      ]
     },
     "execution_count": 14,
     "metadata": {},
     "output_type": "execute_result"
    }
   ],
   "source": [
    "is_valid_sc"
   ]
  },
  {
   "cell_type": "code",
   "execution_count": 26,
   "metadata": {},
   "outputs": [],
   "source": [
    "# try to find connected SC using smaller (k1, k2):\n",
    "desired_N = 1000\n",
    "k1_target, k2_target = (10, 3)\n",
    "p1_sc, p2_sc = p1_p2_ER_like_simplicial_complex(k1_target, k2_target, desired_N)\n",
    "\n",
    "attempts = 1000\n",
    "for _ in range(attempts):\n",
    "    giant_order_realized, edges_realized, triangles_realized = ER_like_simplicial_complex(desired_N, p1_sc, p2_sc)\n",
    "    if giant_order_realized == desired_N:\n",
    "        print(f\"Found connected SC of size {desired_N}.\")\n",
    "        break"
   ]
  },
  {
   "cell_type": "code",
   "execution_count": null,
   "metadata": {},
   "outputs": [],
   "source": []
  }
 ],
 "metadata": {
  "kernelspec": {
   "display_name": ".venv",
   "language": "python",
   "name": "python3"
  },
  "language_info": {
   "codemirror_mode": {
    "name": "ipython",
    "version": 3
   },
   "file_extension": ".py",
   "mimetype": "text/x-python",
   "name": "python",
   "nbconvert_exporter": "python",
   "pygments_lexer": "ipython3",
   "version": "3.13.1"
  }
 },
 "nbformat": 4,
 "nbformat_minor": 2
}
