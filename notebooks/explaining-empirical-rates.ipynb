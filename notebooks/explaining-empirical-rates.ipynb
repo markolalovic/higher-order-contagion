{
 "cells": [
  {
   "cell_type": "code",
   "execution_count": 1,
   "id": "dc7f2f14",
   "metadata": {},
   "outputs": [],
   "source": [
    "import numpy as np\n",
    "import matplotlib.pyplot as plt"
   ]
  },
  {
   "cell_type": "code",
   "execution_count": 148,
   "id": "e9599872",
   "metadata": {},
   "outputs": [],
   "source": [
    "def plot_skew_factor(N_val, alpha_val, plot_filepath):\n",
    "    # plots the skew factor exp(alpha * (2k - N) / N) wrt k, for given N and alpha value\n",
    "\n",
    "    k_values = np.arange(0, N_val + 1)\n",
    "\n",
    "    # the exponential skew factor\n",
    "    skew_argument = (2 * k_values - N_val) / float(N_val)\n",
    "    skew_factor_values = np.exp(alpha_val * skew_argument)\n",
    "\n",
    "    # ----- plotting  ----\n",
    "    plt.figure(figsize=(8, 5))\n",
    "    plt_title = f\"$y = exp\\\\left( \\\\alpha (2k - N) / N \\\\right)$, \\t $\\\\alpha$ = {alpha_val}\"\n",
    "    plt.title(plt_title)\n",
    "    \n",
    "    plt.plot(k_values, skew_factor_values, marker='.', linestyle='-', color='dodgerblue',\n",
    "             label=f\"$y$\")\n",
    "\n",
    "    # key points and lines\n",
    "    plt.axvline(N_val / 2, color='darkorange', linestyle='--', linewidth=0.8, \n",
    "                label=f'$k=N/2$ (no skew effect)')\n",
    "\n",
    "    plt.axhline(1, color='black', linestyle='--', linewidth=0.8, \n",
    "                label=f'exp(0) = 1 (no skew effect)') # exp(0) = 1\n",
    "\n",
    "    # values at k = 0, N/2, N\n",
    "    y_at_k0 = np.exp(alpha_val * (-1))     # skew argument is -1 at k = 0\n",
    "    y_at_kN_half = np.exp(alpha_val * 0)   # skew argument is 0 at k = N/2\n",
    "    y_at_kN = np.exp(alpha_val * 1)        # skew argument is 1 at k = N\n",
    "    \n",
    "    plt.scatter([0], [y_at_k0], color='red', s=50, zorder=5, \n",
    "                label=f'$k=0, y=e^{{{alpha_val*-1:.1f}}} \\\\approx {y_at_k0:.2f}$')\n",
    "        \n",
    "    plt.scatter([N_val], [y_at_kN], color='green', s=50, zorder=5, \n",
    "                label=f'$k=N, y=e^{{{alpha_val*1:.1f}}} \\\\approx {y_at_kN:.2f}$')\n",
    "\n",
    "    if N_val % 2 == 0:\n",
    "        plt.scatter([N_val/2], [y_at_kN_half], color='blue', s=50, zorder=5)\n",
    "\n",
    "    plt.xlabel(\"Number of Infected (k)\")\n",
    "    plt.ylabel(f\"$exp\\\\left( \\\\alpha (2k - N) / N \\\\right)$\")\n",
    "    \n",
    "    plt.xticks(np.linspace(0, N_val, min(11, N_val + 1)))\n",
    "\n",
    "    min_y, max_y = np.min(skew_factor_values), np.max(skew_factor_values)\n",
    "\n",
    "    current_yticks = list(plt.yticks()[0])\n",
    "    if 1.0 not in current_yticks:\n",
    "        current_yticks.append(1.0)\n",
    "        current_yticks.sort()\n",
    "    \n",
    "    plt.yticks(np.unique(np.round(np.linspace(min_y, max_y, 7),2)))\n",
    "    plt.grid(True, linestyle=':', alpha=0.7)\n",
    "    plt.legend(loc='best')\n",
    "    plt.tight_layout()\n",
    "    # plt.show()\n",
    "    plt.tight_layout()\n",
    "    plt.savefig(plot_filepath, format='pdf', bbox_inches='tight')\n",
    "    plt.close()"
   ]
  },
  {
   "cell_type": "code",
   "execution_count": 152,
   "id": "4c462fbb",
   "metadata": {},
   "outputs": [],
   "source": [
    "N_val = 100\n",
    "\n",
    "# positive skew, enhances for k > N/2\n",
    "alpha_val = 2.0\n",
    "\n",
    "# positive alpha, enhances for k > N/2, gives negative skewed tilde curve\n",
    "plot_filepath = \"../figures/combined/tilde_fits/negative_skewed.pdf\"\n",
    "plot_skew_factor(N_val, alpha_val, plot_filepath)"
   ]
  },
  {
   "cell_type": "code",
   "execution_count": 153,
   "id": "21d39ed2",
   "metadata": {},
   "outputs": [],
   "source": [
    "# negative skew, enhances for k < N/2\n",
    "alpha_val = -2.0\n",
    "\n",
    "# negative alpha, enhances for k < N/2, gives positive skewed tilde curve\n",
    "plot_filepath = \"../figures/combined/tilde_fits/positive_skewed.pdf\"\n",
    "plot_skew_factor(N_val, alpha_val, plot_filepath)"
   ]
  },
  {
   "cell_type": "code",
   "execution_count": null,
   "id": "5b96c061",
   "metadata": {},
   "outputs": [],
   "source": []
  }
 ],
 "metadata": {
  "kernelspec": {
   "display_name": ".venv",
   "language": "python",
   "name": "python3"
  },
  "language_info": {
   "codemirror_mode": {
    "name": "ipython",
    "version": 3
   },
   "file_extension": ".py",
   "mimetype": "text/x-python",
   "name": "python",
   "nbconvert_exporter": "python",
   "pygments_lexer": "ipython3",
   "version": "3.9.6"
  }
 },
 "nbformat": 4,
 "nbformat_minor": 5
}
