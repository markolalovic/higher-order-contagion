{
 "cells": [
  {
   "cell_type": "markdown",
   "metadata": {},
   "source": [
    "# DEBUG: Solve KEs complete case\n",
    "\n",
    "Analyze solutions for bad betas that cause the bumps behavior"
   ]
  },
  {
   "cell_type": "code",
   "execution_count": 2,
   "metadata": {},
   "outputs": [],
   "source": [
    "import numpy as np\n",
    "import matplotlib.pylab as plt\n",
    "\n",
    "import sys\n",
    "sys.path.append('../tests/')\n",
    "from test_solving_KEs_complete import *"
   ]
  },
  {
   "cell_type": "code",
   "execution_count": 4,
   "metadata": {},
   "outputs": [],
   "source": [
    "bad_betas = [(np.float64(0.071), np.float64(0.00081)),\n",
    "             (np.float64(0.071), np.float64(0.00091)),\n",
    "             (np.float64(0.081), np.float64(0.00061)),\n",
    "             (np.float64(0.081), np.float64(0.0007099999999999999)),\n",
    "             (np.float64(0.081), np.float64(0.00081)),\n",
    "             (np.float64(0.081), np.float64(0.00091)),\n",
    "             (np.float64(0.091), np.float64(0.00041)),\n",
    "             (np.float64(0.091), np.float64(0.0005099999999999999)),\n",
    "             (np.float64(0.091), np.float64(0.00061)),\n",
    "             (np.float64(0.091), np.float64(0.0007099999999999999)),\n",
    "             (np.float64(0.091), np.float64(0.00081)),\n",
    "             (np.float64(0.091), np.float64(0.00091))]"
   ]
  },
  {
   "cell_type": "code",
   "execution_count": 5,
   "metadata": {},
   "outputs": [
    {
     "data": {
      "text/plain": [
       "(np.float64(0.071), np.float64(0.00081))"
      ]
     },
     "execution_count": 5,
     "metadata": {},
     "output_type": "execute_result"
    }
   ],
   "source": [
    "beta1, beta2 = bad_betas[0]\n",
    "beta1, beta2"
   ]
  },
  {
   "cell_type": "code",
   "execution_count": 8,
   "metadata": {},
   "outputs": [
    {
     "name": "stdout",
     "output_type": "stream",
     "text": [
      "Setup: \n",
      "\n",
      "\tH = Complete Hypergraph, N = 100, I0 = 10\n",
      "\n",
      "\tbeta1 = 0.071, beta2 = 0.00081, mu = 1\n",
      "\n"
     ]
    }
   ],
   "source": [
    "\"\"\"Complete case test.\"\"\"\n",
    "# setup\n",
    "nsims = 10 # number of simulation runs\n",
    "time_max = 10   # maximum time duration\n",
    "\n",
    "\n",
    "# TODO: increase these values\n",
    "N = 100\n",
    "I0 = 10 \n",
    "time_max = 20\n",
    "\n",
    "# beta1 = 2 / N       # pairwise infection rate\n",
    "# beta2 = 4 / (N**2)  # hyperedge contagion rate\n",
    "beta1, beta2 = bad_betas[0]\n",
    "mu    = 1           # recovery rate\n",
    "\n",
    "print(f\"Setup: \\n\")\n",
    "print(f\"\\tH = Complete Hypergraph, N = {N}, I0 = {I0}\\n\")\n",
    "print(f\"\\tbeta1 = {beta1}, beta2 = {beta2}, mu = {mu}\\n\")"
   ]
  },
  {
   "cell_type": "code",
   "execution_count": 12,
   "metadata": {},
   "outputs": [
    {
     "name": "stdout",
     "output_type": "stream",
     "text": [
      "p0 = [0. 0. 0. 0. 0. 0. 0. 0. 0. 0. 1. 0. 0. 0. 0. 0. 0. 0. 0. 0. 0. 0. 0. 0.\n",
      " 0. 0. 0. 0. 0. 0. 0. 0. 0. 0. 0. 0. 0. 0. 0. 0. 0. 0. 0. 0. 0. 0. 0. 0.\n",
      " 0. 0. 0. 0. 0. 0. 0. 0. 0. 0. 0. 0. 0. 0. 0. 0. 0. 0. 0. 0. 0. 0. 0. 0.\n",
      " 0. 0. 0. 0. 0. 0. 0. 0. 0. 0. 0. 0. 0. 0. 0. 0. 0. 0. 0. 0. 0. 0. 0. 0.\n",
      " 0. 0. 0. 0. 0.]\n"
     ]
    }
   ],
   "source": [
    "M = N + 1 # number of all states\n",
    "\n",
    "# set the initial condition\n",
    "p0 = np.zeros(M)\n",
    "p0[I0] = 1.0 # all other states have prob 0 at time 0\n",
    "print(f\"p0 = {p0}\")\n",
    "\n",
    "# time range and times to evaluate solution\n",
    "nsteps = 201\n",
    "t_span = (0.0, time_max)\n",
    "t_eval = np.linspace(t_span[0], t_span[1], nsteps)"
   ]
  },
  {
   "cell_type": "code",
   "execution_count": 13,
   "metadata": {},
   "outputs": [],
   "source": [
    "# Solve KEs\n",
    "ode_system_complete = list_all_ODEs_complete(N, beta1, beta2, mu)\n",
    "\n",
    "def f_ode(t, p):\n",
    "    return ode_system_complete(t, p)\n",
    "\n",
    "sol = solve_ivp(f_ode, \n",
    "                t_span, \n",
    "                p0, \n",
    "                t_eval=t_eval,\n",
    "                method=\"RK45\"\n",
    ")"
   ]
  },
  {
   "cell_type": "code",
   "execution_count": 14,
   "metadata": {},
   "outputs": [
    {
     "data": {
      "image/png": "[encoded data removed]",
      "text/plain": [
       "<Figure size 640x480 with 1 Axes>"
      ]
     },
     "metadata": {},
     "output_type": "display_data"
    }
   ],
   "source": [
    "# plot the expected values of p_{k}(t) over time t\n",
    "expected_values = calculate_expected_values(sol)\n",
    "plt.figure()\n",
    "plt.scatter(sol.t, expected_values, s = 10, color=\"k\", \n",
    "            label=r\"Expected values $E[p_{k}(t)]$\")\n",
    "plt.xlabel(\"Time t\")\n",
    "plt.ylabel(r\"$E[p_{k}(t)]$\")\n",
    "# plt.legend()\n",
    "plt.title(f\"H = Complete Hypergraph, N = {N}\")\n",
    "plt.show()"
   ]
  },
  {
   "cell_type": "code",
   "execution_count": null,
   "metadata": {},
   "outputs": [],
   "source": []
  },
  {
   "cell_type": "code",
   "execution_count": null,
   "metadata": {},
   "outputs": [],
   "source": []
  },
  {
   "cell_type": "code",
   "execution_count": null,
   "metadata": {},
   "outputs": [],
   "source": []
  }
 ],
 "metadata": {
  "kernelspec": {
   "display_name": ".venv",
   "language": "python",
   "name": "python3"
  },
  "language_info": {
   "codemirror_mode": {
    "name": "ipython",
    "version": 3
   },
   "file_extension": ".py",
   "mimetype": "text/x-python",
   "name": "python",
   "nbconvert_exporter": "python",
   "pygments_lexer": "ipython3",
   "version": "3.13.1"
  }
 },
 "nbformat": 4,
 "nbformat_minor": 2
}
