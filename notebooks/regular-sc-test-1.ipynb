{
 "cells": [
  {
   "cell_type": "code",
   "execution_count": 7,
   "metadata": {},
   "outputs": [],
   "source": [
    "import numpy as np\n",
    "import matplotlib.pylab as plt\n",
    "import random\n",
    "from scipy.special import comb\n",
    "\n",
    "import sys\n",
    "sys.path.append('../src/')\n",
    "sys.path.append('../scripts/')"
   ]
  },
  {
   "cell_type": "code",
   "execution_count": 8,
   "metadata": {},
   "outputs": [],
   "source": [
    "import numpy as np\n",
    "import networkx as nx\n",
    "import random\n",
    "from itertools import combinations"
   ]
  },
  {
   "cell_type": "code",
   "execution_count": null,
   "metadata": {},
   "outputs": [],
   "source": [
    "from generators_sc_test import regular_maximum_overlapped_simplicial_complex\n",
    "from generators_sc_test import check_full_triangle_property"
   ]
  },
  {
   "cell_type": "code",
   "execution_count": 10,
   "metadata": {},
   "outputs": [
    {
     "name": "stdout",
     "output_type": "stream",
     "text": [
      "N = n * k = 600\n",
      "N % 2 == 0: True\n"
     ]
    }
   ],
   "source": [
    "n = 200\n",
    "k = 3\n",
    "N = n * k\n",
    "print(f\"N = n * k = {N}\")\n",
    "print(f\"N % 2 == 0: {N % 2 == 0}\")"
   ]
  },
  {
   "cell_type": "code",
   "execution_count": 11,
   "metadata": {},
   "outputs": [
    {
     "data": {
      "text/plain": [
       "([(444, 445), (67, 68), (99, 100), (446, 473), (147, 149)],\n",
       " [(420, 421, 422),\n",
       "  (99, 100, 101),\n",
       "  (120, 121, 122),\n",
       "  (159, 160, 161),\n",
       "  (180, 181, 182)])"
      ]
     },
     "execution_count": 11,
     "metadata": {},
     "output_type": "execute_result"
    }
   ],
   "source": [
    "N_realized, np_edges, np_triangles = regular_maximum_overlapped_simplicial_complex(n, k)\n",
    "N_realized, len(np_edges), len(np_triangles)\n",
    "\n",
    "\n",
    "edges = list(set([(int(u), int(v)) for (u, v) in list(np_edges)]))\n",
    "triangles = list(set([(int(u), int(v), int(w)) for (u, v, w) in list(np_triangles)]))\n",
    "len(edges), len(triangles)\n",
    "\n",
    "edges[:5], triangles[:5]"
   ]
  },
  {
   "cell_type": "code",
   "execution_count": 12,
   "metadata": {},
   "outputs": [
    {
     "data": {
      "text/plain": [
       "True"
      ]
     },
     "execution_count": 12,
     "metadata": {},
     "output_type": "execute_result"
    }
   ],
   "source": [
    "check_full_triangle_property(edges, triangles)"
   ]
  },
  {
   "cell_type": "code",
   "execution_count": null,
   "metadata": {},
   "outputs": [],
   "source": []
  }
 ],
 "metadata": {
  "kernelspec": {
   "display_name": ".venv",
   "language": "python",
   "name": "python3"
  },
  "language_info": {
   "codemirror_mode": {
    "name": "ipython",
    "version": 3
   },
   "file_extension": ".py",
   "mimetype": "text/x-python",
   "name": "python",
   "nbconvert_exporter": "python",
   "pygments_lexer": "ipython3",
   "version": "3.13.1"
  }
 },
 "nbformat": 4,
 "nbformat_minor": 2
}
