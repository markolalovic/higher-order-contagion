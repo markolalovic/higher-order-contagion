{
 "cells": [
  {
   "cell_type": "code",
   "execution_count": 2,
   "metadata": {},
   "outputs": [],
   "source": [
    "import numpy as np\n",
    "import matplotlib.pylab as plt\n",
    "import random\n",
    "from scipy.special import comb\n",
    "\n",
    "import sys\n",
    "sys.path.append('../src/')\n",
    "sys.path.append('../scripts/')"
   ]
  },
  {
   "cell_type": "code",
   "execution_count": null,
   "metadata": {},
   "outputs": [],
   "source": [
    "import numpy as np\n",
    "import networkx as nx\n",
    "import random\n",
    "from itertools import combinations"
   ]
  },
  {
   "cell_type": "code",
   "execution_count": 6,
   "metadata": {},
   "outputs": [],
   "source": [
    "def regular_maximum_overlapped_simplicial_complex(n, k, seed=None):\n",
    "    \"\"\"\n",
    "    -----------------------------------------------------------------------------------\n",
    "    Thanks to Luca Gallo - https://scholar.google.com/citations?hl=it&user=sKiSU9AAAAAJ\n",
    "    -----------------------------------------------------------------------------------\n",
    "    \n",
    "    Returns a regular simplicial complex of order 2 with maximum value of intra-order hyperedge overlap.\n",
    "\n",
    "    Each node has exactly\n",
    "    - 1-degree = k\n",
    "    - 2-degree = (k-1)(k-2)/2\n",
    "    We first fix a value of initial number of nodes n, the final structure will be will be composed of N = k*n nodes.\n",
    "    \n",
    "    Parameters\n",
    "    ----------\n",
    "    k : int\n",
    "      The degree of each node.\n",
    "    n : int\n",
    "      The number of nodes for the starting k-regular random graph. \n",
    "      The value of $N \\times k$ must be even.\n",
    "      The numer of nodes of the simplicial complex will be k*N.\n",
    "    seed : int, random_state, or None (default)\n",
    "        Indicator of random number generation state.\n",
    "        \n",
    "    Output\n",
    "    ----------\n",
    "    N : int\n",
    "      The number of nodes in the simplicial complex.\n",
    "    edges_list : ndarray\n",
    "      Array composed by a list of tuples [(0,1),(2,3),...,etc] composing the set of 1-simplices\n",
    "    triangles_list : ndarray\n",
    "      Array composed by a list of tuples [(0,1,2),(2,3,4),...,etc] representing the set of 2-simplices\n",
    "    \"\"\"\n",
    "    M = nx.random_regular_graph(k,n,seed=seed)\n",
    "    \n",
    "    graph_to_simplex = {ii:[ii*k+r for r in range(k)] for ii in range(n)}\n",
    "    \n",
    "    G = nx.disjoint_union_all([nx.complete_graph(k) for ii in range(n)])\n",
    "    \n",
    "    triangle_list = []\n",
    "    for clique in nx.enumerate_all_cliques(G):\n",
    "        if len(clique)==3:\n",
    "            triangle_list.append(clique)\n",
    "        \n",
    "    for edge in M.edges():\n",
    "        m1 = edge[0]\n",
    "        m2 = edge[1]\n",
    "        n1 = random.choice(graph_to_simplex[m1])\n",
    "        n2 = random.choice(graph_to_simplex[m2])\n",
    "        \n",
    "        G.add_edge(n1,n2)\n",
    "        \n",
    "        graph_to_simplex[m1].remove(n1)\n",
    "        graph_to_simplex[m2].remove(n2)\n",
    "        \n",
    "    edges_list = np.array(G.edges())\n",
    "    N = n*k\n",
    "    return N,np.array(edges_list), np.array(triangle_list)"
   ]
  },
  {
   "cell_type": "code",
   "execution_count": 7,
   "metadata": {},
   "outputs": [
    {
     "data": {
      "text/plain": [
       "(20,\n",
       " array([[ 0,  1],\n",
       "        [ 0, 17],\n",
       "        [ 1, 10],\n",
       "        [ 2,  3],\n",
       "        [ 2,  5],\n",
       "        [ 3,  9],\n",
       "        [ 4,  5],\n",
       "        [ 4,  6],\n",
       "        [ 6,  7],\n",
       "        [ 7, 11],\n",
       "        [ 8,  9],\n",
       "        [ 8, 15],\n",
       "        [10, 11],\n",
       "        [12, 13],\n",
       "        [12, 14],\n",
       "        [13, 19],\n",
       "        [14, 15],\n",
       "        [16, 17],\n",
       "        [16, 18],\n",
       "        [18, 19]]),\n",
       " array([], dtype=float64))"
      ]
     },
     "execution_count": 7,
     "metadata": {},
     "output_type": "execute_result"
    }
   ],
   "source": [
    "n = 10\n",
    "k = 2\n",
    "regular_maximum_overlapped_simplicial_complex(n, k)"
   ]
  },
  {
   "cell_type": "code",
   "execution_count": null,
   "metadata": {},
   "outputs": [],
   "source": []
  }
 ],
 "metadata": {
  "kernelspec": {
   "display_name": ".venv",
   "language": "python",
   "name": "python3"
  },
  "language_info": {
   "codemirror_mode": {
    "name": "ipython",
    "version": 3
   },
   "file_extension": ".py",
   "mimetype": "text/x-python",
   "name": "python",
   "nbconvert_exporter": "python",
   "pygments_lexer": "ipython3",
   "version": "3.13.1"
  }
 },
 "nbformat": 4,
 "nbformat_minor": 2
}
