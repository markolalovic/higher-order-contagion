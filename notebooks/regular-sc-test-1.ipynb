{
 "cells": [
  {
   "cell_type": "code",
   "execution_count": 1,
   "metadata": {},
   "outputs": [],
   "source": [
    "import numpy as np\n",
    "import matplotlib.pylab as plt\n",
    "import random\n",
    "from scipy.special import comb\n",
    "\n",
    "import sys\n",
    "sys.path.append('../src/')\n",
    "sys.path.append('../scripts/')"
   ]
  },
  {
   "cell_type": "code",
   "execution_count": 2,
   "metadata": {},
   "outputs": [],
   "source": [
    "import numpy as np\n",
    "import networkx as nx\n",
    "import random\n",
    "from itertools import combinations"
   ]
  },
  {
   "cell_type": "code",
   "execution_count": 12,
   "metadata": {},
   "outputs": [],
   "source": [
    "def regular_maximum_overlapped_simplicial_complex(n, k, seed=None):\n",
    "    \"\"\"\n",
    "    -----------------------------------------------------------------------------------\n",
    "    Thanks to Luca Gallo - https://scholar.google.com/citations?hl=it&user=sKiSU9AAAAAJ\n",
    "    -----------------------------------------------------------------------------------\n",
    "    \n",
    "    Returns a regular simplicial complex of order 2 with maximum value of intra-order hyperedge overlap.\n",
    "\n",
    "    Each node has exactly\n",
    "    - 1-degree = k\n",
    "    - 2-degree = (k-1)(k-2)/2\n",
    "    We first fix a value of initial number of nodes n, the final structure will be will be composed of N = k*n nodes.\n",
    "    \n",
    "    Parameters\n",
    "    ----------\n",
    "    k : int\n",
    "      The degree of each node.\n",
    "    n : int\n",
    "      The number of nodes for the starting k-regular random graph. \n",
    "      The value of $N \\times k$ must be even.\n",
    "      The numer of nodes of the simplicial complex will be k * n <-- \n",
    "    seed : int, random_state, or None (default)\n",
    "        Indicator of random number generation state.\n",
    "        \n",
    "    Output\n",
    "    ----------\n",
    "    N : int\n",
    "      The number of nodes in the simplicial complex.\n",
    "    edges_list : ndarray\n",
    "      Array composed by a list of tuples [(0,1),(2,3),...,etc] composing the set of 1-simplices\n",
    "    triangles_list : ndarray\n",
    "      Array composed by a list of tuples [(0,1,2),(2,3,4),...,etc] representing the set of 2-simplices\n",
    "    \"\"\"\n",
    "    # Kim & Vu (2003) Generating Random Regular Graphs \n",
    "    # NOTE: asympt uniform if d << n^(1/3), which holds since we want sparser graphs\n",
    "    M = nx.random_regular_graph(k,n,seed=seed) \n",
    "    \n",
    "    graph_to_simplex = {ii:[ii*k+r for r in range(k)] for ii in range(n)}\n",
    "    \n",
    "    G = nx.disjoint_union_all([nx.complete_graph(k) for ii in range(n)]) # <- here `ii`\n",
    "    \n",
    "    triangle_list = []\n",
    "    for clique in nx.enumerate_all_cliques(G):\n",
    "        if len(clique)==3:\n",
    "            triangle_list.append(clique)\n",
    "        \n",
    "    for edge in M.edges():\n",
    "        m1 = edge[0]\n",
    "        m2 = edge[1]\n",
    "        n1 = random.choice(graph_to_simplex[m1])\n",
    "        n2 = random.choice(graph_to_simplex[m2])\n",
    "        \n",
    "        G.add_edge(n1,n2)\n",
    "        \n",
    "        graph_to_simplex[m1].remove(n1)\n",
    "        graph_to_simplex[m2].remove(n2)\n",
    "        \n",
    "    edges_list = np.array(G.edges())\n",
    "    N = n*k\n",
    "    return N, np.array(edges_list), np.array(triangle_list)"
   ]
  },
  {
   "cell_type": "code",
   "execution_count": 19,
   "metadata": {},
   "outputs": [
    {
     "name": "stdout",
     "output_type": "stream",
     "text": [
      "N = n * k = 600\n",
      "N % 2 == 0: True\n"
     ]
    }
   ],
   "source": [
    "n = 200\n",
    "k = 3\n",
    "N = n * k\n",
    "print(f\"N = n * k = {N}\")\n",
    "print(f\"N % 2 == 0: {N % 2 == 0}\")"
   ]
  },
  {
   "cell_type": "code",
   "execution_count": 17,
   "metadata": {},
   "outputs": [
    {
     "data": {
      "text/plain": [
       "(1500, 2250, 500)"
      ]
     },
     "execution_count": 17,
     "metadata": {},
     "output_type": "execute_result"
    }
   ],
   "source": [
    "N_realized, np_edges, np_triangles = regular_maximum_overlapped_simplicial_complex(n, k)\n",
    "N_realized, len(np_edges), len(np_triangles)"
   ]
  },
  {
   "cell_type": "code",
   "execution_count": 18,
   "metadata": {},
   "outputs": [
    {
     "data": {
      "text/plain": [
       "(2250, 500)"
      ]
     },
     "execution_count": 18,
     "metadata": {},
     "output_type": "execute_result"
    }
   ],
   "source": [
    "edges = set([(int(u), int(v)) for (u, v) in list(np_edges)])\n",
    "triangles = set([(int(u), int(v), int(w)) for (u, v, w) in list(np_triangles)])\n",
    "len(edges), len(triangles)"
   ]
  },
  {
   "cell_type": "code",
   "execution_count": null,
   "metadata": {},
   "outputs": [],
   "source": []
  }
 ],
 "metadata": {
  "kernelspec": {
   "display_name": ".venv",
   "language": "python",
   "name": "python3"
  },
  "language_info": {
   "codemirror_mode": {
    "name": "ipython",
    "version": 3
   },
   "file_extension": ".py",
   "mimetype": "text/x-python",
   "name": "python",
   "nbconvert_exporter": "python",
   "pygments_lexer": "ipython3",
   "version": "3.9.6"
  }
 },
 "nbformat": 4,
 "nbformat_minor": 2
}
