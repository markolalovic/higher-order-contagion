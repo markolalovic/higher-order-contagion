{
 "cells": [
  {
   "cell_type": "code",
   "execution_count": 17,
   "metadata": {
    "vscode": {
     "languageId": "wolfram"
    }
   },
   "outputs": [],
   "source": [
    "ClearAll[\"Global`*\"]"
   ]
  },
  {
   "cell_type": "code",
   "execution_count": 126,
   "metadata": {
    "vscode": {
     "languageId": "wolfram"
    }
   },
   "outputs": [
    {
     "name": "stdout",
     "output_type": "stream",
     "text": [
      "vars:{p[0][t], p[1][t], p[2][t], p[3][t], p[4][t], p[5][t]}\n",
      " \n",
      "beta1  \t beta2 \n",
      "0.023     0.00042\n",
      "\n",
      "0.4       0.16\n",
      "\n",
      "0.4       0.12\n",
      "\n",
      "0.4       0.08\n",
      "\n",
      "0.3       0.12\n",
      "\n",
      "0.01      0.0005\n"
     ]
    },
    {
     "data": {
      "text/html": [
       "<div><pre style=\"&#102;&#111;&#110;&#116;&#45;&#102;&#97;&#109;&#105;&#108;&#121;&#58;&#32;&#34;&#67;&#111;&#117;&#114;&#105;&#101;&#114;&#32;&#78;&#101;&#119;&#34;&#44;&#67;&#111;&#117;&#114;&#105;&#101;&#114;&#44;&#109;&#111;&#110;&#111;&#115;&#112;&#97;&#99;&#101;&#59;\">&#123;&#123;&#48;&#46;&#48;&#50;&#51;&#44;&#32;&#48;&#46;&#48;&#48;&#48;&#52;&#50;&#125;&#44;&#32;&#123;&#48;&#46;&#52;&#44;&#32;&#48;&#46;&#49;&#54;&#125;&#44;&#32;&#123;&#48;&#46;&#52;&#44;&#32;&#48;&#46;&#49;&#50;&#125;&#44;&#32;&#123;&#48;&#46;&#52;&#44;&#32;&#48;&#46;&#48;&#56;&#125;&#44;&#32;&#123;&#48;&#46;&#51;&#44;&#32;&#48;&#46;&#49;&#50;&#125;&#44;&#32;&#123;&#48;&#46;&#48;&#49;&#44;&#32;&#48;&#46;&#48;&#48;&#48;&#53;&#125;&#125;</pre></div>"
      ],
      "text/plain": [
       "{{0.023, 0.00042}, {0.4, 0.16}, {0.4, 0.12}, {0.4, 0.08}, {0.3, 0.12}, {0.01, 0.0005}}"
      ]
     },
     "execution_count": 126,
     "metadata": {
      "text/html": [],
      "text/plain": []
     },
     "output_type": "execute_result"
    }
   ],
   "source": [
    "Nval = 5; (* number of nodes *)\n",
    "I0 = 1; (* initial infected *)\n",
    "\n",
    "vars = Table[p[k][t], {k, 0, Nval}];\n",
    "Print[\"vars:\\n \", vars, \"\\n\"]\n",
    "\n",
    "mu = 1; (* recovery rate mu is fixed *)\n",
    "\n",
    "(* check for various values of (beta1, beta2) pairs *)\n",
    "betaPairs = {\n",
    "  {0.023, 0.00042},\n",
    "  {2.0 / Nval, 4.0 / Nval^2},\n",
    "  {2.0 / Nval, 3.0 / Nval^2},\n",
    "  {2.0 / Nval, 2.0 / Nval^2},    \n",
    "  {1.5 / Nval, 3.0 / Nval^2},\n",
    "  {0.01, 0.0005}  \n",
    "}\n",
    "Print[\"beta1  \\t beta2 \"];\n",
    "Print[MatrixForm[betaPairs]];\n"
   ]
  },
  {
   "cell_type": "code",
   "execution_count": null,
   "metadata": {
    "vscode": {
     "languageId": "wolfram"
    }
   },
   "outputs": [],
   "source": [
    "(* list all N + 1 ODE equations *)\n",
    "odes = Table[\n",
    "   Which[ (* handle boundry states k = 0 and k = N *)\n",
    "    k == 0,\n",
    "    p[k]'[t] == c[k + 1] p[k + 1][t],\n",
    "\n",
    "    k == Nval,\n",
    "    p[k]'[t] == (a[k - 1] + b[k - 1]) p[k - 1][t] - c[k] p[k][t],\n",
    "\n",
    "    True, (* interior states 1 <= k <= N - 1 *)\n",
    "    p[k]'[t] == (a[k - 1] + b[k - 1]) p[k - 1][t] - (a[k] + b[k] + c[k]) p[k][t] + c[k + 1] p[k + 1][t]\n",
    "    ],\n",
    "   {k, 0, Nval} (* for all states k = 0, 1, ..., N *)\n",
    "];\n",
    "Print[\"KEs for N = \", Nval, \":\\n\", odes, \"\\n\"];"
   ]
  },
  {
   "cell_type": "code",
   "execution_count": 16,
   "metadata": {
    "vscode": {
     "languageId": "wolfram"
    }
   },
   "outputs": [],
   "source": [
    "pOftMatrixExp = MatrixExp[matrixQ t] . p0;"
   ]
  },
  {
   "cell_type": "code",
   "execution_count": null,
   "metadata": {
    "vscode": {
     "languageId": "wolfram"
    }
   },
   "outputs": [],
   "source": []
  }
 ],
 "metadata": {
  "kernelspec": {
   "display_name": "Wolfram Language 14.2",
   "language": "Wolfram Language",
   "name": "wolframlanguage14.2"
  },
  "language_info": {
   "codemirror_mode": "mathematica",
   "file_extension": ".m",
   "mimetype": "application/vnd.wolfram.m",
   "name": "Wolfram Language",
   "pygments_lexer": "mathematica",
   "version": "12.0"
  }
 },
 "nbformat": 4,
 "nbformat_minor": 2
}
