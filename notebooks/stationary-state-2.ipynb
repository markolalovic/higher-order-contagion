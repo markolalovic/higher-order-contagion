{
 "cells": [
  {
   "cell_type": "code",
   "execution_count": 15,
   "metadata": {
    "vscode": {
     "languageId": "wolfram"
    }
   },
   "outputs": [],
   "source": [
    "ClearAll[\"Global`*\"]"
   ]
  },
  {
   "cell_type": "code",
   "execution_count": 1,
   "metadata": {
    "vscode": {
     "languageId": "wolfram"
    }
   },
   "outputs": [],
   "source": [
    "(* --- Function to Construct Q Matrix --- *)\n",
    "(* Takes Nval, beta1, beta2, mu as arguments *)\n",
    "constructQ[n_, beta1_, beta2_, mu_] := Module[{matrixQ, k},\n",
    "  (* define rates a_k, b_k, c_k complete case *)\n",
    "  Clear[a, b, c]; \n",
    "  a[k_] := beta1 k (n - k);\n",
    "  b[k_] := beta2 Binomial[k, 2] (n - k);\n",
    "  c[k_] := mu k;\n",
    "  \n",
    "  (* TODO: initialize sparse matrix of size (n + 1) x (n + \n",
    "  1) for performance *)\n",
    "  (* Q = SparseArray[{}, {n + 1, n + 1}]; *)\n",
    "  matrixQ = Table[\n",
    "    Which[\n",
    "     k == 0 && j == 1, c[1],\n",
    "     k == j + 1, a[j] + b[j],\n",
    "     k == j, -(a[k] + b[k] + c[k]),\n",
    "     k + 1 == j, c[j], True, 0\n",
    "     ], {k, 0, n}, {j, 0, n}\n",
    "    ];\n",
    "  matrixQ];"
   ]
  },
  {
   "cell_type": "code",
   "execution_count": 4,
   "metadata": {
    "vscode": {
     "languageId": "wolfram"
    }
   },
   "outputs": [
    {
     "name": "stdout",
     "output_type": "stream",
     "text": [
      "beta1 = 0.4, beta2 = 0.16\n",
      "p0 = {0, 1, 0, 0, 0, 0}\n",
      "\n",
      "matrixQ = \n",
      "0.      1       0       0       0       0\n",
      "\n",
      "0.      -2.6    2       0       0       0\n",
      "\n",
      "0       1.6     -4.88   3       0       0\n",
      "\n",
      "0       0       2.88    -6.36   4       0\n",
      "\n",
      "0       0       0       3.36    -6.56   5\n",
      "\n",
      "0       0       0       0       2.56    -5.\n"
     ]
    }
   ],
   "source": [
    "Nval = 5; (* number of nodes *)\n",
    "I0 = 1; (* initial infected *)\n",
    "\n",
    "mu = 1;\n",
    "beta1 = 2.0 / Nval;\n",
    "beta2 = 4.0 / (Nval^2);\n",
    "Print[\"beta1 = \", beta1, \", beta2 = \", beta2];\n",
    "\n",
    "p0 = Table[If[k == I0, 1, 0], {k, 0, Nval}];\n",
    "Print[\"p0 = \", p0];\n",
    "\n",
    "matrixQ = constructQ[Nval, beta1, beta2, mu];\n",
    "Print[\"\\nmatrixQ = \"];\n",
    "Print[MatrixForm[matrixQ]];"
   ]
  },
  {
   "cell_type": "code",
   "execution_count": 16,
   "metadata": {
    "vscode": {
     "languageId": "wolfram"
    }
   },
   "outputs": [],
   "source": [
    "pOftMatrixExp = MatrixExp[matrixQ t] . p0;"
   ]
  },
  {
   "cell_type": "code",
   "execution_count": null,
   "metadata": {
    "vscode": {
     "languageId": "wolfram"
    }
   },
   "outputs": [],
   "source": []
  }
 ],
 "metadata": {
  "kernelspec": {
   "display_name": "Wolfram Language 14.2",
   "language": "Wolfram Language",
   "name": "wolframlanguage14.2"
  },
  "language_info": {
   "codemirror_mode": "mathematica",
   "file_extension": ".m",
   "mimetype": "application/vnd.wolfram.m",
   "name": "Wolfram Language",
   "pygments_lexer": "mathematica",
   "version": "12.0"
  }
 },
 "nbformat": 4,
 "nbformat_minor": 2
}
