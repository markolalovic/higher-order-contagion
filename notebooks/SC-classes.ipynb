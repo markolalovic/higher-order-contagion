{
 "cells": [
  {
   "cell_type": "markdown",
   "metadata": {},
   "source": [
    "# Classes of simplicial complexes:\n",
    "\n",
    "1. Complete: same thing as complete hypergraph we are using\n",
    "\n",
    "2. Erdos-Renyi: some standard well studied coin-flipping type generalization\n",
    "\n",
    "3. Scale-free: we could use [the generator](https://github.com/ginestrab/Ensembles-of-Simplicial-Complexes) from Ginestra Bianconi described in the [Generalized network structures paper](https://arxiv.org/pdf/1602.04110)\n",
    "\n",
    "4. Regular: perhaps we can use [this generator](https://github.com/santiagolaot/hyperedge-overlap/blob/main/Structure\\%20generation/Maximum-overlap-structures.py) from [Hyperedge overlap drives explosive transitions paper](https://arxiv.org/pdf/2307.03519) and simplify it if we don't need to control the overlap and correlations\n"
   ]
  },
  {
   "cell_type": "markdown",
   "metadata": {},
   "source": [
    "## Erdos-Renyi SC\n",
    "\n",
    "### 1. \n",
    "$G(N, p_1, p_2)$ with number of filled triangles (2-simplices) is $p_2 \\, \\binom{N}{3}$ with downward closure property: if $i, j, k \\in SC$ then all pairs in SC.\n",
    "\n",
    "Approaches:\n",
    "  - Create a $G(N, p_1)$ skeleton first, then fill in triangles (add any \"open\" triangle as 2-simplex with prob $p_2$)\n",
    "\n",
    "  - Independent, filter / project: generate $G(N, p_1, p_2)$ independently, then if $i, j, k$ was picked but not one of its edges: discard it or add mising edges. Here, the actual number of triangles can be too low.\n"
   ]
  },
  {
   "cell_type": "markdown",
   "metadata": {},
   "source": [
    "### 2. \n",
    "Build clique complexes on E-R random graph\n",
    "\n",
    "- Create $G(N, p_1)$ graph\n",
    "- Find cliques (3-cliques only), and fill-in all triangles (add the 2-simplices), downward closure guaranteed by construction. The prob of triangle existing is not independent, but it's prob of all edges of triangle existing ($p_1^3$ for a triangle) summed over all possible triangles. Makes it hard to tune the density.."
   ]
  },
  {
   "cell_type": "markdown",
   "metadata": {},
   "source": [
    "### 3. \n",
    "A random geometric constuction, e.g. Vietoris-Rips based on point placement. Input: disntace threshold eps, and point distribution e.g. uniform on a unit square. Approach: Draw the points in a $[0, 1]^{d}$ then connect them if distance below threshold, it's a clique complex of the graph for triangles. Less pure and combinatorial approach.."
   ]
  },
  {
   "cell_type": "code",
   "execution_count": null,
   "metadata": {},
   "outputs": [],
   "source": []
  },
  {
   "cell_type": "code",
   "execution_count": null,
   "metadata": {},
   "outputs": [],
   "source": []
  },
  {
   "cell_type": "code",
   "execution_count": null,
   "metadata": {},
   "outputs": [],
   "source": []
  },
  {
   "cell_type": "code",
   "execution_count": null,
   "metadata": {},
   "outputs": [],
   "source": []
  }
 ],
 "metadata": {
  "kernelspec": {
   "display_name": ".venv",
   "language": "python",
   "name": "python3"
  },
  "language_info": {
   "name": "python",
   "version": "3.13.1"
  }
 },
 "nbformat": 4,
 "nbformat_minor": 2
}
